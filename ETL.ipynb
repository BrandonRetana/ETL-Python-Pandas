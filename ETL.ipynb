{
 "cells": [
  {
   "cell_type": "code",
   "execution_count": 8,
   "id": "51d3e8f5",
   "metadata": {},
   "outputs": [],
   "source": [
    "from pyspark.sql import SparkSession\n",
    "from pyspark.sql.functions import ltrim,rtrim,trim,col\n",
    "from pyspark.sql.functions import *\n",
    "from pyspark.sql.types import *\n",
    "#import rdd\n",
    "import pyspark.sql.functions as F\n",
    "spark = SparkSession.builder.appName(\"MyFirstCSV\").getOrCreate()\n"
   ]
  },
  {
   "cell_type": "code",
   "execution_count": null,
   "id": "f5739b97",
   "metadata": {},
   "outputs": [],
   "source": [
    "#CREATE DATAFRAME FROM CSV FILE\n",
    "oij_df = spark.read.csv( path=\"OIJ.csv\", sep=\",\", header=True,quote='\"',inferSchema=True,)\n",
    "inec_df = spark.read.csv( path=\"INEC.csv\", sep=\";\", header=True,quote='\"',inferSchema=True,)"
   ]
  },
  {
   "cell_type": "code",
   "execution_count": null,
   "id": "29dfe503",
   "metadata": {},
   "outputs": [],
   "source": [
    "#Function to remove spaces from the beginning and end of the string\n",
    "def remove_spaces(df):\n",
    "    for col in df.columns:\n",
    "        if  col == 'Provincia' or col == 'Canton' or col == 'Distrito' or col == 'Provincia, cantón y distrito':\n",
    "            df = df.withColumn(col, trim(col))\n",
    "    return df\n",
    "\n",
    "#Function to parser the string to lowercase\n",
    "def to_lower_case(df):\n",
    "    for col in df.columns:\n",
    "        if  col == 'Provincia' or col == 'Canton' or col == 'Distrito' or col == 'Provincia, cantón y distrito':\n",
    "            df = df.withColumn(col, lower(col))\n",
    "    return df\n",
    "\n",
    "\n",
    "oij_df = remove_spaces(oij_df)\n",
    "inec_df = remove_spaces(inec_df)\n",
    "\n",
    "oij_df = to_lower_case(oij_df)\n",
    "inec_df = to_lower_case(inec_df)\n",
    "\n",
    "oij_df.show(5)\n",
    "inec_df.show(5)"
   ]
  },
  {
   "cell_type": "code",
   "execution_count": null,
   "id": "bbdf9bf1",
   "metadata": {},
   "outputs": [],
   "source": [
    "#Function find list the not match values in the dataframes\n",
    "def find_non_matches(df1,df2):\n",
    "    non_matches = []\n",
    "    for col in df1.columns:\n",
    "        if  col == 'Provincia' or col == 'Canton' or col == 'Distrito':\n",
    "            for row in df1.select(col).distinct().collect():\n",
    "                if not df2.filter(df2['Provincia, cantón y distrito'] == row[col]).collect():\n",
    "                    non_matches.append(row[col])\n",
    "    return non_matches\n",
    "\n",
    "non_matches_oij = find_non_matches(oij_df,inec_df)\n",
    "\n",
    "\n",
    "#Function to parser the string to lowercase\n",
    "def to_lower_case(df):\n",
    "    for col in df.columns:\n",
    "        if  col == 'Provincia' or col == 'Canton' or col == 'Distrito' or col == 'Provincia, cantón y distrito':\n",
    "            df = df.withColumn(col, lower(col))\n",
    "    return df\n",
    "\n",
    "\n",
    "oij_df = remove_spaces(oij_df)\n",
    "inec_df = remove_spaces(inec_df)\n",
    "\n",
    "oij_df = to_lower_case(oij_df)\n",
    "inec_df = to_lower_case(inec_df)\n",
    "\n",
    "nonMatches = find_non_matches(oij_df,inec_df)\n",
    "print(nonMatches)\n",
    "#oij_df.show(5)\n",
    "#inec_df.show(5)\n"
   ]
  },
  {
   "cell_type": "code",
   "execution_count": null,
   "id": "3046964e",
   "metadata": {},
   "outputs": [],
   "source": [
    "#Function to replace the accents in column Provincia, cantón y distrito in inec_df\n",
    "def replace_accents(df):\n",
    "    df = df.withColumn('Provincia, cantón y distrito', regexp_replace('Provincia, cantón y distrito', 'á', 'a'))\n",
    "    df = df.withColumn('Provincia, cantón y distrito', regexp_replace('Provincia, cantón y distrito', 'é', 'e'))\n",
    "    df = df.withColumn('Provincia, cantón y distrito', regexp_replace('Provincia, cantón y distrito', 'í', 'i'))\n",
    "    df = df.withColumn('Provincia, cantón y distrito', regexp_replace('Provincia, cantón y distrito', 'ó', 'o'))\n",
    "    df = df.withColumn('Provincia, cantón y distrito', regexp_replace('Provincia, cantón y distrito', 'ú', 'u'))\n",
    "    df = df.withColumn('Provincia, cantón y distrito', regexp_replace('Provincia, cantón y distrito', 'ñ', 'n'))\n",
    "    return df\n",
    "\n",
    "inec_df = replace_accents(inec_df)\n",
    "nonMatches = find_non_matches(oij_df,inec_df)\n",
    "print(nonMatches)\n"
   ]
  },
  {
   "cell_type": "code",
   "execution_count": null,
   "id": "1e476025",
   "metadata": {},
   "outputs": [],
   "source": [
    "#Fucntion to separate column Provincia, cantón y distrito in inec_df in three columns\n"
   ]
  },
  {
   "cell_type": "code",
   "execution_count": null,
   "id": "a0ffe418",
   "metadata": {},
   "outputs": [],
   "source": [
    "def generate_new_columns(df):\n",
    "    columns = ['Provincia', 'Canton', 'Distrito','Tasa neta de participación', 'Porcentaje de población económicamente inactiva', 'Relación de dependencia económica']\n",
    "    dfFromRDD2 = spark.createDataFrame(rdd).toDF(*columns)\n",
    "\n",
    "\n",
    "\n",
    "    first_column =  df.columns[0]\n",
    "    \n",
    "    counter = 0\n",
    "    for row in first_column:\n",
    "        if row == '':\n",
    "            counter += 1\n",
    "        if counter == 1:\n",
    "            new_df.withColumn('Provincia', row)\n",
    "        if counter == 2:\n",
    "            new_df.withColumn('Canton', row)\n",
    "        if counter == 3:\n",
    "            new_df.withColumn('Distrito', row)\n",
    "            counter = 0\n",
    "    return new_df\n",
    "        \n"
   ]
  },
  {
   "cell_type": "code",
   "execution_count": null,
   "id": "5daf9f8d",
   "metadata": {},
   "outputs": [],
   "source": [
    "#Function to remove column Provincia, cantón y distrito in inec_df\n",
    "def remove_column(df):\n",
    "    df = df.drop('Provincia, cantón y distrito')\n",
    "    return df\n",
    "\n",
    "inec_df = remove_column(inec_df)"
   ]
  },
  {
   "cell_type": "code",
   "execution_count": null,
   "id": "162d76ed",
   "metadata": {},
   "outputs": [],
   "source": [
    "#Function to create a new dataframe with inec_df and oij_df when provincia, canton and distrito are equals\n",
    "def join_dataframes(df1,df2):\n",
    "    df = df1.join(df2, (df1.Provincia == df2.ProvinciaUnida) | (df1.Canton == df2.CantonUnido) | (df1.Distrito == df2.DistritoUnido), 'inner')\n",
    "    return df\n",
    "\n",
    "df = join_dataframes(oij_df,inec_df)\n",
    "df.show(25)\n"
   ]
  },
  {
   "cell_type": "code",
   "execution_count": null,
   "id": "ebda3932",
   "metadata": {},
   "outputs": [],
   "source": [
    "#Create sql table from dataframe\n",
    "df.createOrReplaceTempView(\"df\")\n",
    "\n",
    "#Save the dataframe in a postgresql database\n",
    "df.write.jdbc(url=\"jdbc:postgresql://localhost:5432/etl\", table=\"etl\", mode=\"overwrite\", properties={\"user\": \"postgres\", \"password\": \"Legolas00\"})\n"
   ]
  },
  {
   "cell_type": "code",
   "execution_count": null,
   "id": "ba89b29b",
   "metadata": {},
   "outputs": [],
   "source": [
    "#Save the dataframe in csv file\n",
    "df.write.csv(path=\"output.csv\", sep=\",\", header=True,quote='\"',mode=\"overwrite\")\n",
    "df.show(5)\n"
   ]
  }
 ],
 "metadata": {
  "kernelspec": {
   "display_name": "Python 3.10.6 64-bit",
   "language": "python",
   "name": "python3"
  },
  "language_info": {
   "codemirror_mode": {
    "name": "ipython",
    "version": 3
   },
   "file_extension": ".py",
   "mimetype": "text/x-python",
   "name": "python",
   "nbconvert_exporter": "python",
   "pygments_lexer": "ipython3",
   "version": "3.10.6"
  },
  "vscode": {
   "interpreter": {
    "hash": "31f2aee4e71d21fbe5cf8b01ff0e069b9275f58929596ceb00d14d90e3e16cd6"
   }
  }
 },
 "nbformat": 4,
 "nbformat_minor": 5
}
