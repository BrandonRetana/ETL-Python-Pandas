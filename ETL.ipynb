{
 "cells": [
  {
   "cell_type": "code",
   "execution_count": 1,
   "id": "51d3e8f5",
   "metadata": {},
   "outputs": [],
   "source": [
    "from pyspark.sql import SparkSession\n",
    "from pyspark.sql.functions import ltrim,rtrim,trim,col\n",
    "from pyspark.sql.functions import *\n",
    "from pyspark import SparkContext\n",
    "spark = SparkSession.builder.config(\"spark.jars\", \"postgresql-42.5.1.jar\") \\\n",
    "\t.master(\"local\").appName(\"PySpark_Postgres_test\").getOrCreate()\n",
    "\n"
   ]
  },
  {
   "cell_type": "code",
   "execution_count": 2,
   "id": "f5739b97",
   "metadata": {},
   "outputs": [],
   "source": [
    "#CREATE DATAFRAME FROM CSV FILE\n",
    "oij_df = spark.read.csv( path=\"OIJ.csv\", sep=\",\", header=True,quote='\"',inferSchema=True,)\n",
    "inec_df = spark.read.csv( path=\"INEC.csv\", sep=\";\", header=True,quote='\"',inferSchema=True,)"
   ]
  },
  {
   "cell_type": "code",
   "execution_count": 3,
   "id": "29dfe503",
   "metadata": {},
   "outputs": [
    {
     "name": "stdout",
     "output_type": "stream",
     "text": [
      "+------+-----------+-------------------+-------------------+--------+--------------------+-------------+------+------------+----------+----------+--------+----+\n",
      "|Delito|  SubDelito|              Fecha|               Hora| Victima|          SubVictima|         Edad|Genero|Nacionalidad| Provincia|    Canton|Distrito|_c12|\n",
      "+------+-----------+-------------------+-------------------+--------+--------------------+-------------+------+------------+----------+----------+--------+----+\n",
      "|ASALTO|ARMA BLANCA|2021-06-03 00:00:00|00:00:00 - 02:59:59|VEHICULO|SERVICIO PUBLICO/...|Mayor de edad|HOMBRE|  COSTA RICA|  san jose|alajuelita|    null|null|\n",
      "|ASALTO|ARMA BLANCA|2021-06-10 00:00:00|15:00:00 - 17:59:59| PERSONA|    PEATON [PERSONA]|Mayor de edad| MUJER|  COSTA RICA|  san jose|    escazu|    null|null|\n",
      "|ASALTO|ARMA BLANCA|2021-06-14 00:00:00|09:00:00 - 11:59:59| PERSONA|    PEATON [PERSONA]|Mayor de edad|HOMBRE|  COSTA RICA|guanacaste|    nicoya|    null|null|\n",
      "|ASALTO|ARMA BLANCA|2021-06-14 00:00:00|15:00:00 - 17:59:59| PERSONA|    PEATON [PERSONA]|Mayor de edad|HOMBRE|   NICARAGUA|   cartago|   cartago|    null|null|\n",
      "|ASALTO|ARMA BLANCA|2021-06-15 00:00:00|21:00:00 - 23:59:59| PERSONA|    PEATON [PERSONA]|Mayor de edad|HOMBRE|   NICARAGUA|  san jose|  san jose|    null|null|\n",
      "+------+-----------+-------------------+-------------------+--------+--------------------+-------------+------+------------+----------+----------+--------+----+\n",
      "only showing top 5 rows\n",
      "\n",
      "+----------------------------+--------------------------+--------------------------+-----------------+-------------------------+-----------------------------------------------+---------------------------------+\n",
      "|Provincia, cantón y distrito|Población de 15 años y más|Tasa neta de participación|Tasa de ocupación|Tasa de desempleo abierto|Porcentaje de población económicamente inactiva|Relación de dependencia económica|\n",
      "+----------------------------+--------------------------+--------------------------+-----------------+-------------------------+-----------------------------------------------+---------------------------------+\n",
      "|                        null|                      null|                      null|             null|                     null|                                           null|                             null|\n",
      "|                    san josé|                 1 087 315|                        56|             54,1|                      3,5|                                             44|                              1,3|\n",
      "|                        null|                      null|                      null|             null|                     null|                                           null|                             null|\n",
      "|                    san josé|                   225 856|                      56,7|             54,5|                      3,9|                                           43,3|                              1,2|\n",
      "|                        null|                      null|                      null|             null|                     null|                                           null|                             null|\n",
      "+----------------------------+--------------------------+--------------------------+-----------------+-------------------------+-----------------------------------------------+---------------------------------+\n",
      "only showing top 5 rows\n",
      "\n"
     ]
    }
   ],
   "source": [
    "#Function to remove spaces from the beginning and end of the string\n",
    "def remove_spaces(df):\n",
    "    for col in df.columns:\n",
    "        if  col == 'Provincia' or col == 'Canton' or col == 'Distrito' or col == 'Provincia, cantón y distrito':\n",
    "            df = df.withColumn(col, trim(col))\n",
    "    return df\n",
    "\n",
    "#Function to parser the string to lowercase\n",
    "def to_lower_case(df):\n",
    "    for col in df.columns:\n",
    "        if  col == 'Provincia' or col == 'Canton' or col == 'Distrito' or col == 'Provincia, cantón y distrito':\n",
    "            df = df.withColumn(col, lower(col))\n",
    "    return df\n",
    "\n",
    "\n",
    "oij_df = remove_spaces(oij_df)\n",
    "inec_df = remove_spaces(inec_df)\n",
    "\n",
    "oij_df = to_lower_case(oij_df)\n",
    "inec_df = to_lower_case(inec_df)\n",
    "\n",
    "oij_df.show(5)\n",
    "inec_df.show(5)"
   ]
  },
  {
   "cell_type": "code",
   "execution_count": 4,
   "id": "bbdf9bf1",
   "metadata": {},
   "outputs": [
    {
     "name": "stdout",
     "output_type": "stream",
     "text": [
      "['desconocido', 'san jose', 'limon', 'islas', 'pococi', 'rio cuarto', 'guacimo', 'belen', 'la union', 'desconocido', 'puerto jim&#201;nez', 'leon cortes', 'poas', 'tarrazu', 'san jose', 'san ramon', 'aserri', 'vasquez de coronado', 'sarch&#205;', 'paraiso', 'tilaran', 'canas', 'limon', 'perez zeledon', 'jimenez', 'monteverde', 'tibas', 'sarapiqui', 'escazu', 'santa barbara', None]\n"
     ]
    }
   ],
   "source": [
    "#Function find list the not match values in the dataframes\n",
    "def find_non_matches(df1,df2):\n",
    "    non_matches = []\n",
    "    for col in df1.columns:\n",
    "        if  col == 'Provincia' or col == 'Canton' or col == 'Distrito':\n",
    "            for row in df1.select(col).distinct().collect():\n",
    "                if not df2.filter(df2['Provincia, cantón y distrito'] == row[col]).collect():\n",
    "                    non_matches.append(row[col])\n",
    "    return non_matches\n",
    "\n",
    "non_matches_oij = find_non_matches(oij_df,inec_df)\n",
    "\n",
    "\n",
    "\n",
    "oij_df = remove_spaces(oij_df)\n",
    "inec_df = remove_spaces(inec_df)\n",
    "\n",
    "oij_df = to_lower_case(oij_df)\n",
    "inec_df = to_lower_case(inec_df)\n",
    "\n",
    "nonMatches = find_non_matches(oij_df,inec_df)\n",
    "print(nonMatches)\n",
    "#oij_df.show(5)\n",
    "#inec_df.show(5)\n"
   ]
  },
  {
   "cell_type": "code",
   "execution_count": 5,
   "id": "3046964e",
   "metadata": {},
   "outputs": [
    {
     "name": "stdout",
     "output_type": "stream",
     "text": [
      "['desconocido', 'islas', 'desconocido', 'puerto jim&#201;nez', 'leon cortes', 'vasquez de coronado', 'sarch&#205;', 'monteverde', None]\n"
     ]
    }
   ],
   "source": [
    "#Function to replace the accents in column Provincia, cantón y distrito in inec_df\n",
    "def replace_accents(df):\n",
    "    df = df.withColumn('Provincia, cantón y distrito', regexp_replace('Provincia, cantón y distrito', 'á', 'a'))\n",
    "    df = df.withColumn('Provincia, cantón y distrito', regexp_replace('Provincia, cantón y distrito', 'é', 'e'))\n",
    "    df = df.withColumn('Provincia, cantón y distrito', regexp_replace('Provincia, cantón y distrito', 'í', 'i'))\n",
    "    df = df.withColumn('Provincia, cantón y distrito', regexp_replace('Provincia, cantón y distrito', 'ó', 'o'))\n",
    "    df = df.withColumn('Provincia, cantón y distrito', regexp_replace('Provincia, cantón y distrito', 'ú', 'u'))\n",
    "    df = df.withColumn('Provincia, cantón y distrito', regexp_replace('Provincia, cantón y distrito', 'ñ', 'n'))\n",
    "    return df\n",
    "\n",
    "inec_df = replace_accents(inec_df)\n",
    "nonMatches = find_non_matches(oij_df,inec_df)\n",
    "print(nonMatches)\n"
   ]
  },
  {
   "cell_type": "code",
   "execution_count": 6,
   "id": "1e476025",
   "metadata": {},
   "outputs": [],
   "source": [
    "#Fucntion to separate column Provincia, cantón y distrito in inec_df in three columns\n"
   ]
  },
  {
   "cell_type": "code",
   "execution_count": 7,
   "id": "a0ffe418",
   "metadata": {},
   "outputs": [],
   "source": [
    "def generate_new_columns(df):\n",
    "    columns = [\"Provincia1\", \"Canton1\", \"Distrito1\",\"Tasa neta de participación\", \"Porcentaje de población económicamente inactiva\", \"Relación de dependencia económica\"]\n",
    "    new_df = spark.createDataFrame(data =[(\"\",\"\",\"\",\"\",\"\",\"\")], schema = columns)\n",
    "    Provincia =''\n",
    "    Canton = ''\n",
    "    Distrito = ''\n",
    "    counter = 0\n",
    "    counter2 = 0\n",
    "    for row in df.collect():\n",
    "        if row['Provincia, cantón y distrito'] == None:\n",
    "            counter += 1\n",
    "            counter2 += 1\n",
    "            if counter == 4: \n",
    "                counter = 2  \n",
    "\n",
    "            if counter2 == 2:\n",
    "                counter = 1\n",
    "            continue\n",
    "        if counter == 1:\n",
    "            Provincia = row[0]\n",
    "        if counter == 2:\n",
    "            Canton = row[0]\n",
    "        if counter == 3:\n",
    "            Distrito = row[0]\n",
    "            NewRow = (Provincia, Canton, Distrito, \"\", \"\", \"\")\n",
    "            new_df = new_df.union(spark.createDataFrame(data =[NewRow], schema = columns))\n",
    "        counter2 = 0\n",
    "    \n",
    "    return new_df\n",
    "\n",
    "new_df = generate_new_columns(inec_df)"
   ]
  },
  {
   "cell_type": "code",
   "execution_count": 8,
   "id": "162d76ed",
   "metadata": {},
   "outputs": [
    {
     "name": "stdout",
     "output_type": "stream",
     "text": [
      "+-----------------+-----------------+-------------------+-------------------+--------+--------------------+-------------+-----------+------------+---------+--------+--------+----+----------+--------+---------+--------------------------+-----------------------------------------------+---------------------------------+\n",
      "|           Delito|        SubDelito|              Fecha|               Hora| Victima|          SubVictima|         Edad|     Genero|Nacionalidad|Provincia|  Canton|Distrito|_c12|Provincia1| Canton1|Distrito1|Tasa neta de participación|Porcentaje de población económicamente inactiva|Relación de dependencia económica|\n",
      "+-----------------+-----------------+-------------------+-------------------+--------+--------------------+-------------+-----------+------------+---------+--------+--------+----+----------+--------+---------+--------------------------+-----------------------------------------------+---------------------------------+\n",
      "|TACHA DE VEHICULO|TACHA DE VEHICULO|2022-11-13 00:00:00|03:00:00 - 05:59:59|VEHICULO|AUTOMOVIL [VEHICULO]|Mayor de edad|     HOMBRE|  COSTA RICA| san jose|san jose|    null|null|  san jose|san jose|   carmen|                          |                                               |                                 |\n",
      "|TACHA DE VEHICULO|TACHA DE VEHICULO|2022-11-11 00:00:00|21:00:00 - 23:59:59|VEHICULO|AUTOMOVIL [VEHICULO]|Mayor de edad|     HOMBRE|  COSTA RICA| san jose|san jose|    null|null|  san jose|san jose|   carmen|                          |                                               |                                 |\n",
      "|TACHA DE VEHICULO|TACHA DE VEHICULO|2022-11-08 00:00:00|15:00:00 - 17:59:59|VEHICULO|AUTOMOVIL [VEHICULO]|Mayor de edad|     HOMBRE|  COSTA RICA| san jose|san jose|    null|null|  san jose|san jose|   carmen|                          |                                               |                                 |\n",
      "|TACHA DE VEHICULO|TACHA DE VEHICULO|2022-10-27 00:00:00|18:00:00 - 20:59:59|VEHICULO|RURAL 4X4 [VEHICULO]|  Desconocido|DESCONOCIDO| Desconocido| san jose|san jose|    null|null|  san jose|san jose|   carmen|                          |                                               |                                 |\n",
      "|TACHA DE VEHICULO|TACHA DE VEHICULO|2022-10-27 00:00:00|18:00:00 - 20:59:59|VEHICULO|RURAL 4X4 [VEHICULO]|Mayor de edad|      MUJER|  COSTA RICA| san jose|san jose|    null|null|  san jose|san jose|   carmen|                          |                                               |                                 |\n",
      "|TACHA DE VEHICULO|TACHA DE VEHICULO|2022-10-24 00:00:00|00:00:00 - 02:59:59|VEHICULO|AUTOMOVIL [VEHICULO]|Mayor de edad|      MUJER|  COSTA RICA| san jose|san jose|    null|null|  san jose|san jose|   carmen|                          |                                               |                                 |\n",
      "|TACHA DE VEHICULO|TACHA DE VEHICULO|2022-10-21 00:00:00|18:00:00 - 20:59:59|VEHICULO|AUTOMOVIL [VEHICULO]|Mayor de edad|     HOMBRE|  COSTA RICA| san jose|san jose|    null|null|  san jose|san jose|   carmen|                          |                                               |                                 |\n",
      "|TACHA DE VEHICULO|TACHA DE VEHICULO|2022-10-03 00:00:00|15:00:00 - 17:59:59|VEHICULO|AUTOMOVIL [VEHICULO]|Mayor de edad|      MUJER|  COSTA RICA| san jose|san jose|    null|null|  san jose|san jose|   carmen|                          |                                               |                                 |\n",
      "|TACHA DE VEHICULO|TACHA DE VEHICULO|2022-09-16 00:00:00|06:00:00 - 08:59:59|VEHICULO|CARGA LIVIANA [VE...| Adulto Mayor|     HOMBRE|  COSTA RICA| san jose|san jose|    null|null|  san jose|san jose|   carmen|                          |                                               |                                 |\n",
      "|TACHA DE VEHICULO|TACHA DE VEHICULO|2022-09-13 00:00:00|00:00:00 - 02:59:59|VEHICULO|CARGA LIVIANA [VE...|Mayor de edad|     HOMBRE|  COSTA RICA| san jose|san jose|    null|null|  san jose|san jose|   carmen|                          |                                               |                                 |\n",
      "|TACHA DE VEHICULO|TACHA DE VEHICULO|2022-09-02 00:00:00|18:00:00 - 20:59:59|VEHICULO|AUTOMOVIL [VEHICULO]|Mayor de edad|     HOMBRE|  COSTA RICA| san jose|san jose|    null|null|  san jose|san jose|   carmen|                          |                                               |                                 |\n",
      "|TACHA DE VEHICULO|TACHA DE VEHICULO|2022-08-12 00:00:00|00:00:00 - 02:59:59|VEHICULO|AUTOMOVIL [VEHICULO]|Mayor de edad|     HOMBRE|  COSTA RICA| san jose|san jose|    null|null|  san jose|san jose|   carmen|                          |                                               |                                 |\n",
      "|TACHA DE VEHICULO|TACHA DE VEHICULO|2022-08-07 00:00:00|12:00:00 - 14:59:59|VEHICULO|OTRO O INDETERMIN...|Mayor de edad|     HOMBRE|   NICARAGUA| san jose|san jose|    null|null|  san jose|san jose|   carmen|                          |                                               |                                 |\n",
      "|TACHA DE VEHICULO|TACHA DE VEHICULO|2022-08-03 00:00:00|12:00:00 - 14:59:59|VEHICULO|AUTOMOVIL [VEHICULO]|Mayor de edad|      MUJER| EL SALVADOR| san jose|san jose|    null|null|  san jose|san jose|   carmen|                          |                                               |                                 |\n",
      "|TACHA DE VEHICULO|TACHA DE VEHICULO|2022-07-28 00:00:00|12:00:00 - 14:59:59|VEHICULO|AUTOMOVIL [VEHICULO]|Mayor de edad|     HOMBRE|  COSTA RICA| san jose|san jose|    null|null|  san jose|san jose|   carmen|                          |                                               |                                 |\n",
      "|TACHA DE VEHICULO|TACHA DE VEHICULO|2022-07-05 00:00:00|18:00:00 - 20:59:59|VEHICULO|AUTOMOVIL [VEHICULO]|Mayor de edad|      MUJER|  COSTA RICA| san jose|san jose|    null|null|  san jose|san jose|   carmen|                          |                                               |                                 |\n",
      "|TACHA DE VEHICULO|TACHA DE VEHICULO|2022-06-17 00:00:00|12:00:00 - 14:59:59| PERSONA|OTRO O INDETERMIN...|Mayor de edad|     HOMBRE|  COSTA RICA| san jose|san jose|    null|null|  san jose|san jose|   carmen|                          |                                               |                                 |\n",
      "|TACHA DE VEHICULO|TACHA DE VEHICULO|2022-06-08 00:00:00|18:00:00 - 20:59:59|VEHICULO|RURAL 4X4 [VEHICULO]|Mayor de edad|     HOMBRE|  COSTA RICA| san jose|san jose|    null|null|  san jose|san jose|   carmen|                          |                                               |                                 |\n",
      "|TACHA DE VEHICULO|TACHA DE VEHICULO|2022-06-02 00:00:00|15:00:00 - 17:59:59|VEHICULO|AUTOMOVIL [VEHICULO]|Mayor de edad|      MUJER|   NICARAGUA| san jose|san jose|    null|null|  san jose|san jose|   carmen|                          |                                               |                                 |\n",
      "|TACHA DE VEHICULO|TACHA DE VEHICULO|2022-05-31 00:00:00|12:00:00 - 14:59:59|VEHICULO|SERVICIO PUBLICO/...|Mayor de edad|     HOMBRE|  COSTA RICA| san jose|san jose|    null|null|  san jose|san jose|   carmen|                          |                                               |                                 |\n",
      "|TACHA DE VEHICULO|TACHA DE VEHICULO|2022-05-24 00:00:00|21:00:00 - 23:59:59|VEHICULO|CARGA LIVIANA [VE...|Mayor de edad|     HOMBRE|  COSTA RICA| san jose|san jose|    null|null|  san jose|san jose|   carmen|                          |                                               |                                 |\n",
      "|TACHA DE VEHICULO|TACHA DE VEHICULO|2022-05-23 00:00:00|00:00:00 - 02:59:59|VEHICULO|AUTOMOVIL [VEHICULO]|Mayor de edad|     HOMBRE|  COSTA RICA| san jose|san jose|    null|null|  san jose|san jose|   carmen|                          |                                               |                                 |\n",
      "|TACHA DE VEHICULO|TACHA DE VEHICULO|2022-05-19 00:00:00|21:00:00 - 23:59:59|VEHICULO|CARGA LIVIANA [VE...|Mayor de edad|     HOMBRE|   VENEZUELA| san jose|san jose|    null|null|  san jose|san jose|   carmen|                          |                                               |                                 |\n",
      "|TACHA DE VEHICULO|TACHA DE VEHICULO|2022-05-19 00:00:00|18:00:00 - 20:59:59|VEHICULO|AUTOMOVIL [VEHICULO]|Mayor de edad|      MUJER|  COSTA RICA| san jose|san jose|    null|null|  san jose|san jose|   carmen|                          |                                               |                                 |\n",
      "|TACHA DE VEHICULO|TACHA DE VEHICULO|2022-05-13 00:00:00|18:00:00 - 20:59:59|VEHICULO|AUTOMOVIL [VEHICULO]|Mayor de edad|     HOMBRE|  COSTA RICA| san jose|san jose|    null|null|  san jose|san jose|   carmen|                          |                                               |                                 |\n",
      "+-----------------+-----------------+-------------------+-------------------+--------+--------------------+-------------+-----------+------------+---------+--------+--------+----+----------+--------+---------+--------------------------+-----------------------------------------------+---------------------------------+\n",
      "only showing top 25 rows\n",
      "\n"
     ]
    }
   ],
   "source": [
    "#Function to create a new dataframe with inec_df and oij_df when provincia, canton and distrito are equals\n",
    "def join_dataframes(df1,df2):\n",
    "    #df = df1.join(df2, (df1.Provincia == df2.Provincia) & (df1.Canton == df2.Canton) & (df1.Distrito == df2.Distrito), 'inner')\n",
    "    df = df1.join(df2, (df1.Provincia == df2.Provincia1) & (df1.Canton == df2.Canton1), 'inner')\n",
    "    return df\n",
    "\n",
    "df = join_dataframes(oij_df,new_df)\n",
    "df.show(25)\n"
   ]
  },
  {
   "cell_type": "code",
   "execution_count": 9,
   "id": "ebda3932",
   "metadata": {},
   "outputs": [],
   "source": [
    "#Create sql table from dataframe\n",
    "url = \"jdbc:postgresql://localhost:5432/etl\"\n",
    "mode = \"overwrite\"\n",
    "properties = {\"user\": \"postgres\", \" password\": \"Legolas00\", \"driver\": \"org.postgresql.Driver\"}\n",
    "\n",
    "df.write.jdbc(url=url, table=\"test\", mode=mode, properties=properties)\n"
   ]
  },
  {
   "cell_type": "code",
   "execution_count": null,
   "id": "ba89b29b",
   "metadata": {},
   "outputs": [],
   "source": []
  }
 ],
 "metadata": {
  "kernelspec": {
   "display_name": "Python 3.8.10 64-bit",
   "language": "python",
   "name": "python3"
  },
  "language_info": {
   "codemirror_mode": {
    "name": "ipython",
    "version": 3
   },
   "file_extension": ".py",
   "mimetype": "text/x-python",
   "name": "python",
   "nbconvert_exporter": "python",
   "pygments_lexer": "ipython3",
   "version": "3.8.10"
  },
  "vscode": {
   "interpreter": {
    "hash": "916dbcbb3f70747c44a77c7bcd40155683ae19c65e1c03b4aa3499c5328201f1"
   }
  }
 },
 "nbformat": 4,
 "nbformat_minor": 5
}
