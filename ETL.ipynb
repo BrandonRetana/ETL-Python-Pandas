{
 "cells": [
  {
   "cell_type": "markdown",
   "id": "2498e772",
   "metadata": {},
   "source": [
    "La siguiente celda se encargara de importar todos los paquetes necesarios para el desarrollo del proyecto. Además, se importa el archivo de configuración de la base de datos."
   ]
  },
  {
   "cell_type": "code",
   "execution_count": 50,
   "id": "51d3e8f5",
   "metadata": {},
   "outputs": [],
   "source": [
    "from pyspark.sql import SparkSession\n",
    "from pyspark.sql.functions import ltrim,rtrim,trim,col\n",
    "from pyspark.sql.functions import *\n",
    "from pyspark import SparkContext\n",
    "spark = SparkSession.builder.config(\"spark.jars\", \"postgresql-42.5.1.jar\") \\\n",
    "\t.master(\"local\").appName(\"PySpark_Postgres_test\").getOrCreate()"
   ]
  },
  {
   "cell_type": "markdown",
   "id": "b3875913",
   "metadata": {},
   "source": [
    "En la siguiente celda se encarga de utilizar spark para cargar en dos diferentes dataframes los datos del INEC y el OIJ para despues limpiarlos y unirlos en un solo dataframe."
   ]
  },
  {
   "cell_type": "code",
   "execution_count": 51,
   "id": "f5739b97",
   "metadata": {},
   "outputs": [],
   "source": [
    "#CREATE DATAFRAME FROM CSV FILE\n",
    "oij_df = spark.read.csv( path=\"OIJ.csv\", sep=\";\", header=True,quote='\"',inferSchema=True,)\n",
    "inec_df = spark.read.csv( path=\"INEC.csv\", sep=\";\", header=True,quote='\"',inferSchema=True,)"
   ]
  },
  {
   "cell_type": "markdown",
   "id": "2e379181",
   "metadata": {},
   "source": [
    "En la siguiente celda se encarga de realizar la limpieza de los datos del INEC y el OIJ. Primero se creo una función para remover todos los espacios en blanco al inicio y al final de cada sub celda del data frame utilizando la funcion trim para ello. Ademas se creo una funcio la cual se encarga de pasar todos los caracteres a letras minusculas para poder realizar la busqueda de los datos en el data frame. "
   ]
  },
  {
   "cell_type": "code",
   "execution_count": 52,
   "id": "29dfe503",
   "metadata": {},
   "outputs": [
    {
     "name": "stdout",
     "output_type": "stream",
     "text": [
      "+------+-----------+--------+-------------------+-----------+--------------------+-------------+-----------+------------+---------+----------+-----------+\n",
      "|Delito|  SubDelito|   Fecha|               Hora|    Victima|          SubVictima|         Edad|     Genero|Nacionalidad|Provincia|    Canton|   Distrito|\n",
      "+------+-----------+--------+-------------------+-----------+--------------------+-------------+-----------+------------+---------+----------+-----------+\n",
      "|ASALTO|ARMA BLANCA|6/6/2021|18:00:00 - 20:59:59|   VEHICULO|AUTOMOVIL [VEHICULO]|Mayor de edad|     HOMBRE|  COSTA RICA| san jose|      mora| quitirrisí|\n",
      "|ASALTO|ARMA BLANCA|7/6/2021|12:00:00 - 14:59:59|    PERSONA|    PEATON [PERSONA]|Mayor de edad|     HOMBRE|  COSTA RICA| alajuela|  alajuela|san antonio|\n",
      "|ASALTO|ARMA BLANCA|7/6/2021|15:00:00 - 17:59:59|    PERSONA|    PEATON [PERSONA]| Adulto Mayor|     HOMBRE|   NICARAGUA| san jose|  san jose|   hospital|\n",
      "|ASALTO|ARMA BLANCA|7/6/2021|12:00:00 - 14:59:59|    PERSONA|MENOR DE EDAD [PE...|Menor de edad|      MUJER|  COSTA RICA| alajuela|san carlos|    pocosol|\n",
      "|ASALTO|ARMA BLANCA|9/6/2021|03:00:00 - 05:59:59|EDIFICACION|PANADERIA [EDIFIC...|Mayor de edad|DESCONOCIDO|  COSTA RICA|  heredia|   heredia|    heredia|\n",
      "+------+-----------+--------+-------------------+-----------+--------------------+-------------+-----------+------------+---------+----------+-----------+\n",
      "only showing top 5 rows\n",
      "\n",
      "+----------------------------+--------------------------+--------------------------+-----------------+-------------------------+-----------------------------------------------+---------------------------------+\n",
      "|Provincia, cantón y distrito|Población de 15 años y más|Tasa neta de participación|Tasa de ocupación|Tasa de desempleo abierto|Porcentaje de población económicamente inactiva|Relación de dependencia económica|\n",
      "+----------------------------+--------------------------+--------------------------+-----------------+-------------------------+-----------------------------------------------+---------------------------------+\n",
      "|                        null|                      null|                      null|             null|                     null|                                           null|                             null|\n",
      "|                    san josé|                 1 087 315|                        56|             54,1|                      3,5|                                             44|                              1,3|\n",
      "|                        null|                      null|                      null|             null|                     null|                                           null|                             null|\n",
      "|                    san josé|                   225 856|                      56,7|             54,5|                      3,9|                                           43,3|                              1,2|\n",
      "|                        null|                      null|                      null|             null|                     null|                                           null|                             null|\n",
      "+----------------------------+--------------------------+--------------------------+-----------------+-------------------------+-----------------------------------------------+---------------------------------+\n",
      "only showing top 5 rows\n",
      "\n"
     ]
    }
   ],
   "source": [
    "#Function to remove spaces from the beginning and end of the string\n",
    "def remove_spaces(df):\n",
    "    for col in df.columns:\n",
    "        if  col == 'Provincia' or col == 'Canton' or col == 'Distrito' or col == 'Provincia, cantón y distrito':\n",
    "            df = df.withColumn(col, trim(col))\n",
    "    return df\n",
    "\n",
    "#Function to parser the string to lowercase\n",
    "def to_lower_case(df):\n",
    "    for col in df.columns:\n",
    "        if  col == 'Provincia' or col == 'Canton' or col == 'Distrito' or col == 'Provincia, cantón y distrito':\n",
    "            df = df.withColumn(col, lower(col))\n",
    "    return df\n",
    "\n",
    "\n",
    "oij_df = remove_spaces(oij_df)\n",
    "inec_df = remove_spaces(inec_df)\n",
    "\n",
    "oij_df = to_lower_case(oij_df)\n",
    "inec_df = to_lower_case(inec_df)\n",
    "\n",
    "oij_df.show(5)\n",
    "inec_df.show(5)"
   ]
  },
  {
   "cell_type": "markdown",
   "id": "75c623bb",
   "metadata": {},
   "source": [
    "En la siguente celda se encuentra una funcion la cual se encarga de revisiar en los dos data frames aquellos datos donde no coinciden los datos de la provincia, canton y distrito. "
   ]
  },
  {
   "cell_type": "markdown",
   "id": "ca16b2ba",
   "metadata": {},
   "source": [
    "En la siguiente celda se encarga de reemplazar todos los caracteres especiales del español por caracteres ascii para poder realizar la busqueda de los datos en el data frame. Y que su taza de concidencia sea mayor.Para este trabajo se utilizo la funcionalidad regex_replace de spark. Y asi cada vez que se encuentre un caracter especial se reemplazara por un caracter ascii."
   ]
  },
  {
   "cell_type": "code",
   "execution_count": 53,
   "id": "3046964e",
   "metadata": {},
   "outputs": [],
   "source": [
    "#Function to replace the accents in column Provincia, cantón y distrito in inec_df\n",
    "def replace_accents(df):\n",
    "    df = df.withColumn('Provincia, cantón y distrito', regexp_replace('Provincia, cantón y distrito', 'á', 'a'))\n",
    "    df = df.withColumn('Provincia, cantón y distrito', regexp_replace('Provincia, cantón y distrito', 'é', 'e'))\n",
    "    df = df.withColumn('Provincia, cantón y distrito', regexp_replace('Provincia, cantón y distrito', 'í', 'i'))\n",
    "    df = df.withColumn('Provincia, cantón y distrito', regexp_replace('Provincia, cantón y distrito', 'ó', 'o'))\n",
    "    df = df.withColumn('Provincia, cantón y distrito', regexp_replace('Provincia, cantón y distrito', 'ú', 'u'))\n",
    "    df = df.withColumn('Provincia, cantón y distrito', regexp_replace('Provincia, cantón y distrito', 'ñ', 'n'))\n",
    "    return df\n",
    "\n",
    "inec_df = replace_accents(inec_df)"
   ]
  },
  {
   "cell_type": "markdown",
   "id": "d55c12f7",
   "metadata": {},
   "source": [
    "En la siguiente celda se encarga de dividir la columna del dataframe del inec en tres columnas diferentes, una para la provincia, otra para el canton y otra para el distrito. Para esto se creo una funcion que basado en la cantidad espacios que se encuentren en la columna se dividira en tres columnas diferentes. Esto para que la comparacion de los datos sea mas exacta."
   ]
  },
  {
   "cell_type": "code",
   "execution_count": 54,
   "id": "a0ffe418",
   "metadata": {},
   "outputs": [],
   "source": [
    "def generate_new_columns(df):\n",
    "    columns = [\"Provincia\", \"Canton\", \"Distrito\",\"Tasa neta de participación\", \"Porcentaje de población económicamente inactiva\", \"Relación de dependencia económica\"]\n",
    "    new_df = spark.createDataFrame(data =[(\"\",\"\",\"\",\"\",\"\",\"\")], schema = columns)\n",
    "    Provincia =''\n",
    "    Canton = ''\n",
    "    Distrito = ''\n",
    "    counter = 0\n",
    "    counter2 = 0\n",
    "    for row in df.collect():\n",
    "        if row['Provincia, cantón y distrito'] == None:\n",
    "            counter += 1\n",
    "            counter2 += 1\n",
    "            if counter == 4: \n",
    "                counter = 2  \n",
    "\n",
    "            if counter2 == 2:\n",
    "                counter = 1\n",
    "            continue\n",
    "        if counter == 1:\n",
    "            Provincia = row[0]\n",
    "        if counter == 2:\n",
    "            Canton = row[0]\n",
    "        if counter == 3:\n",
    "            Distrito = row[0]\n",
    "            NewRow = (Provincia, Canton, Distrito, \"\", \"\", \"\")\n",
    "            new_df = new_df.union(spark.createDataFrame(data =[NewRow], schema = columns))\n",
    "        counter2 = 0\n",
    "    \n",
    "    return new_df\n",
    "\n",
    "new_df = generate_new_columns(inec_df)"
   ]
  },
  {
   "cell_type": "markdown",
   "id": "0085bc82",
   "metadata": {},
   "source": [
    "Esta funcion todavia no se si se deberia utilizar "
   ]
  },
  {
   "cell_type": "code",
   "execution_count": 55,
   "id": "162d76ed",
   "metadata": {},
   "outputs": [
    {
     "name": "stdout",
     "output_type": "stream",
     "text": [
      "[('alajuela', 'zarcero', 'desconocido'), ('cartago', 'el guarco', 'desconocido'), ('puntarenas', 'quepos', 'desconocido'), ('san jose', 'leon cortes', 'santa cruz'), ('limon', 'limon', 'desconocido'), ('alajuela', 'guatuso', 'desconocido'), ('alajuela', 'alajuela', 'desconocido'), ('san jose', 'aserri', 'desconocido'), ('puntarenas', 'puerto jiménez', 'puerto jiménez'), ('san jose', 'vasquez de coronado', 'patalillo'), ('puntarenas', 'montes de oro', 'union'), ('alajuela', 'palmares', 'granja'), ('san jose', 'desconocido', 'desconocido'), ('san jose', 'goicoechea', 'mata platano'), ('alajuela', 'sarchí', 'san pedro'), ('limon', 'pococi', 'desconocido'), ('san jose', 'san jose', 'desconocido'), ('cartago', 'oreamuno', 'desconocido'), ('alajuela', 'palmares', 'desconocido'), ('limon', 'siquirres', 'cairo'), ('alajuela', 'alajuela', 'la garita'), ('cartago', 'cartago', 'san francisco'), ('san jose', 'vasquez de coronado', 'desconocido'), ('alajuela', 'atenas', 'desconocido'), ('san jose', 'leon cortes', 'san isidro'), ('heredia', 'belen', 'asuncion'), ('san jose', 'acosta', 'desconocido'), ('puntarenas', 'quepos', 'naranjito'), ('san jose', 'vasquez de coronado', 'cascajal'), ('san jose', 'escazu', 'desconocido'), ('puntarenas', 'puntarenas', 'isla del coco'), ('alajuela', 'zarcero', 'tapezco'), ('san jose', 'leon cortes', 'san pablo'), ('guanacaste', 'desconocido', 'desconocido'), ('alajuela', 'upala', 'san jose (pizote)'), ('san jose', 'curridabat', 'desconocido'), ('puntarenas', 'coto brus', 'gutierrez braun'), ('san jose', 'vasquez de coronado', 'dulce nombre de jesus'), ('alajuela', 'sarchí', 'toro amarillo'), ('puntarenas', 'esparza', 'desconocido'), ('heredia', 'sarapiqui', 'desconocido'), ('heredia', 'santo domingo', 'desconocido'), ('cartago', 'desconocido', 'desconocido'), ('desconocido', 'desconocido', 'desconocido'), ('limon', 'siquirres', 'reventazón'), ('puntarenas', 'coto brus', 'agua buena'), ('alajuela', 'sarchí', 'sarchi norte'), ('limon', 'desconocido', 'desconocido'), ('cartago', 'turrialba', 'el chirripo'), ('alajuela', 'rio cuarto', 'rio cuarto'), ('alajuela', 'desconocido', 'desconocido'), ('cartago', 'la union', 'desconocido'), ('san jose', 'tibas', 'desconocido'), ('san jose', 'aserri', 'monterry'), ('san jose', 'desamparados', 'desconocido'), ('puntarenas', 'garabito', 'desconocido'), ('guanacaste', 'santa cruz', 'desconocido'), ('alajuela', 'grecia', 'desconocido'), ('limon', 'pococi', 'la colonia'), ('puntarenas', 'golfito', 'jimenez'), ('cartago', 'paraiso', 'desconocido'), ('san jose', 'mora', 'jaris'), ('alajuela', 'upala', 'canalete'), ('alajuela', 'san carlos', 'tigra'), ('san jose', 'mora', 'quitirrisí'), ('alajuela', 'orotina', 'desconocido'), ('san jose', 'leon cortes', 'san andres'), ('san jose', 'perez zeledon', 'la amistad'), ('alajuela', 'san carlos', 'desconocido'), ('alajuela', 'naranjo', 'desconocido'), ('san jose', 'puriscal', 'desconocido'), ('san jose', 'turrubares', 'desconocido'), ('limon', 'siquirres', 'desconocido'), ('puntarenas', 'quepos', 'quepos'), ('alajuela', 'san ramon', 'san lorenzo'), ('alajuela', 'sarchí', 'rodriguez'), ('san jose', 'moravia', 'desconocido'), ('cartago', 'cartago', 'guadalupe'), ('san jose', 'leon cortes', 'san antonio'), ('puntarenas', 'puntarenas', 'desconocido'), ('heredia', 'santa barbara', 'desconocido'), ('puntarenas', 'quepos', 'savegre'), ('alajuela', 'sarchí', 'sarchi sur'), ('alajuela', 'upala', 'desconocido'), ('limon', 'talamanca', 'desconocido'), ('san jose', 'mora', 'desconocido'), ('cartago', 'cartago', 'desconocido'), ('heredia', 'belen', 'desconocido'), ('san jose', 'vasquez de coronado', 'san rafael'), ('guanacaste', 'hojancha', 'matambu'), ('alajuela', 'san ramon', 'desconocido'), ('heredia', 'desconocido', 'desconocido'), ('heredia', 'san rafael', 'los angeles'), ('puntarenas', 'osa', 'drake'), ('puntarenas', 'garabito', 'lagunillas'), ('san jose', 'vasquez de coronado', 'san isidro'), ('alajuela', 'san mateo', 'labrador'), ('san jose', 'santa ana', 'desconocido'), ('san jose', 'montes de oca', 'desconocido'), ('san jose', 'leon cortes', 'llano bonito'), ('san jose', 'alajuelita', 'desconocido'), ('puntarenas', 'osa', 'cortes'), ('alajuela', 'naranjo', 'rosario'), ('guanacaste', 'tilaran', 'cabeceras'), ('heredia', 'san rafael', 'desconocido'), ('alajuela', 'orotina', 'ceiba'), ('cartago', 'paraiso', 'birrisito'), ('san jose', 'tarrazu', 'desconocido'), ('alajuela', 'rio cuarto', 'santa rita'), ('heredia', 'heredia', 'desconocido'), ('alajuela', 'poas', 'desconocido'), ('puntarenas', 'monteverde', 'monteverde'), ('heredia', 'barva', 'san jose de la monta?a'), ('puntarenas', 'esparza', 'macacoma'), ('alajuela', 'rio cuarto', 'santa isabel'), ('san jose', 'perez zeledon', 'general'), ('san jose', 'goicoechea', 'desconocido'), ('alajuela', 'san carlos', 'fortuna'), ('cartago', 'turrialba', 'desconocido'), ('alajuela', 'orotina', 'mastate'), ('cartago', 'alvarado', 'desconocido'), ('alajuela', 'san carlos', 'palmera'), ('limon', 'guacimo', 'merecedes'), ('heredia', 'sarapiqui', 'horquetas'), ('san jose', 'aserri', 'la legua'), ('puntarenas', 'esparza', 'caldera'), ('puntarenas', 'desconocido', 'desconocido'), ('guanacaste', 'bagaces', 'fortuna'), ('heredia', 'sarapiqui', 'cure?a')]\n"
     ]
    }
   ],
   "source": [
    "def find_non_matches(df1,df2):\n",
    "    nonMatches = []\n",
    "    Province = ''\n",
    "    Canton = ''\n",
    "    District = ''\n",
    "    df1 = df1.select(\"Provincia\", \"Canton\", \"Distrito\")\n",
    "    df2 = df2.select(\"Provincia\", \"Canton\", \"Distrito\")\n",
    "    df1 = df1.subtract(df2)\n",
    "    for row in df1.collect():\n",
    "        Province = row[0]\n",
    "        Canton = row[1]\n",
    "        District = row[2]\n",
    "        nonMatches.append((Province,Canton,District))\n",
    "    return nonMatches\n",
    "\n",
    "non_matches = find_non_matches(oij_df,new_df)\n",
    "\n",
    "print(non_matches)"
   ]
  },
  {
   "cell_type": "markdown",
   "id": "239e2ce8",
   "metadata": {},
   "source": [
    "En la siguiente celda se encarga de la conexion a la base de datos y la creacion de las tablas necesarias para el almacenamiento de los datos ya limpios y procesados. Se crean dos tablas una para el inec y otra para el oij."
   ]
  },
  {
   "cell_type": "code",
   "execution_count": 56,
   "id": "ebda3932",
   "metadata": {},
   "outputs": [],
   "source": [
    "#Create sql table from dataframe\n",
    "url = \"jdbc:postgresql://localhost:5432/etl\"\n",
    "mode = \"overwrite\"\n",
    "properties = {\"user\": \"postgres\", \" password\": \"Legolas00\", \"driver\": \"org.postgresql.Driver\"}\n",
    "\n",
    "new_df.write.jdbc(url=url, table=\"INEC\", mode=mode, properties=properties)\n",
    "oij_df.write.jdbc(url=url, table=\"OIJ\", mode=mode, properties=properties)"
   ]
  },
  {
   "cell_type": "code",
   "execution_count": null,
   "id": "ba89b29b",
   "metadata": {},
   "outputs": [],
   "source": []
  }
 ],
 "metadata": {
  "kernelspec": {
   "display_name": "Python 3.8.10 64-bit",
   "language": "python",
   "name": "python3"
  },
  "language_info": {
   "codemirror_mode": {
    "name": "ipython",
    "version": 3
   },
   "file_extension": ".py",
   "mimetype": "text/x-python",
   "name": "python",
   "nbconvert_exporter": "python",
   "pygments_lexer": "ipython3",
   "version": "3.8.10"
  },
  "vscode": {
   "interpreter": {
    "hash": "916dbcbb3f70747c44a77c7bcd40155683ae19c65e1c03b4aa3499c5328201f1"
   }
  }
 },
 "nbformat": 4,
 "nbformat_minor": 5
}
