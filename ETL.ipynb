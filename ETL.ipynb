{
 "cells": [
  {
   "cell_type": "code",
   "execution_count": 15,
   "id": "51d3e8f5",
   "metadata": {},
   "outputs": [],
   "source": [
    "from pyspark.sql import SparkSession\n",
    "from pyspark.sql.functions import ltrim,rtrim,trim,col\n",
    "from pyspark.sql.functions import *\n",
    "spark = SparkSession.builder.appName(\"MyFirstCSV\").getOrCreate()\n"
   ]
  },
  {
   "cell_type": "code",
   "execution_count": 16,
   "id": "f5739b97",
   "metadata": {},
   "outputs": [],
   "source": [
    "#CREATE DATAFRAME FROM CSV FILE\n",
    "oij_df = spark.read.csv( path=\"OIJ.csv\", sep=\",\", header=True,quote='\"',inferSchema=True,)\n",
    "inec_df = spark.read.csv( path=\"INEC.csv\", sep=\";\", header=True,quote='\"',inferSchema=True,)"
   ]
  },
  {
   "cell_type": "code",
   "execution_count": 17,
   "id": "29dfe503",
   "metadata": {},
   "outputs": [
    {
     "name": "stdout",
     "output_type": "stream",
     "text": [
      "+------+-----------+-------------------+-------------------+--------+--------------------+-------------+------+------------+----------+----------+--------+----+\n",
      "|Delito|  SubDelito|              Fecha|               Hora| Victima|          SubVictima|         Edad|Genero|Nacionalidad| Provincia|    Canton|Distrito|_c12|\n",
      "+------+-----------+-------------------+-------------------+--------+--------------------+-------------+------+------------+----------+----------+--------+----+\n",
      "|ASALTO|ARMA BLANCA|2021-06-03 00:00:00|00:00:00 - 02:59:59|VEHICULO|SERVICIO PUBLICO/...|Mayor de edad|HOMBRE|  COSTA RICA|  san jose|alajuelita|    null|null|\n",
      "|ASALTO|ARMA BLANCA|2021-06-10 00:00:00|15:00:00 - 17:59:59| PERSONA|    PEATON [PERSONA]|Mayor de edad| MUJER|  COSTA RICA|  san jose|    escazu|    null|null|\n",
      "|ASALTO|ARMA BLANCA|2021-06-14 00:00:00|09:00:00 - 11:59:59| PERSONA|    PEATON [PERSONA]|Mayor de edad|HOMBRE|  COSTA RICA|guanacaste|    nicoya|    null|null|\n",
      "|ASALTO|ARMA BLANCA|2021-06-14 00:00:00|15:00:00 - 17:59:59| PERSONA|    PEATON [PERSONA]|Mayor de edad|HOMBRE|   NICARAGUA|   cartago|   cartago|    null|null|\n",
      "|ASALTO|ARMA BLANCA|2021-06-15 00:00:00|21:00:00 - 23:59:59| PERSONA|    PEATON [PERSONA]|Mayor de edad|HOMBRE|   NICARAGUA|  san jose|  san jose|    null|null|\n",
      "+------+-----------+-------------------+-------------------+--------+--------------------+-------------+------+------------+----------+----------+--------+----+\n",
      "only showing top 5 rows\n",
      "\n",
      "+----------------------------+--------------------------+--------------------------+-----------------+-------------------------+-----------------------------------------------+---------------------------------+------------------------------------------------+--------------------------------------------------+-------------------------------------------------+\n",
      "|Provincia, cantón y distrito|Población de 15 años y más|Tasa neta de participación|Tasa de ocupación|Tasa de desempleo abierto|Porcentaje de población económicamente inactiva|Relación de dependencia económica|Porcentaje de población ocupada  Sector Primario|Porcentaje de población ocupada  Sector Secundario|Porcentaje de población ocupada  Sector Terciario|\n",
      "+----------------------------+--------------------------+--------------------------+-----------------+-------------------------+-----------------------------------------------+---------------------------------+------------------------------------------------+--------------------------------------------------+-------------------------------------------------+\n",
      "|                        null|                      null|                      null|             null|                     null|                                           null|                             null|                                            null|                                              null|                                             null|\n",
      "|                        null|                      null|                      null|             null|                     null|                                           null|                             null|                                            13,9|                                              17,9|                                             68,2|\n",
      "|                  costa rica|                 3 233 882|                      53,5|             51,7|                      3,4|                                           46,5|                              1,5|                                            null|                                              null|                                             null|\n",
      "|                        null|                      null|                      null|             null|                     null|                                           null|                             null|                                             5,5|                                              17,3|                                             77,2|\n",
      "|                    san josé|                 1 087 315|                        56|             54,1|                      3,5|                                             44|                              1,3|                                            null|                                              null|                                             null|\n",
      "+----------------------------+--------------------------+--------------------------+-----------------+-------------------------+-----------------------------------------------+---------------------------------+------------------------------------------------+--------------------------------------------------+-------------------------------------------------+\n",
      "only showing top 5 rows\n",
      "\n"
     ]
    }
   ],
   "source": [
    "#Function to remove spaces from the beginning and end of the string\n",
    "def remove_spaces(df):\n",
    "    for col in df.columns:\n",
    "        if  col == 'Provincia' or col == 'Canton' or col == 'Distrito' or col == 'Provincia, cantón y distrito':\n",
    "            df = df.withColumn(col, trim(col))\n",
    "    return df\n",
    "\n",
    "#Function to parser the string to lowercase\n",
    "def to_lower_case(df):\n",
    "    for col in df.columns:\n",
    "        if  col == 'Provincia' or col == 'Canton' or col == 'Distrito' or col == 'Provincia, cantón y distrito':\n",
    "            df = df.withColumn(col, lower(col))\n",
    "    return df\n",
    "\n",
    "\n",
    "oij_df = remove_spaces(oij_df)\n",
    "inec_df = remove_spaces(inec_df)\n",
    "\n",
    "oij_df = to_lower_case(oij_df)\n",
    "inec_df = to_lower_case(inec_df)\n",
    "\n",
    "oij_df.show(5)\n",
    "inec_df.show(5)"
   ]
  },
  {
   "cell_type": "code",
   "execution_count": 18,
   "id": "bbdf9bf1",
   "metadata": {},
   "outputs": [
    {
     "name": "stdout",
     "output_type": "stream",
     "text": [
      "['san jose', 'limon', 'islas', 'desconocido', 'pococi', 'rio cuarto', 'guacimo', 'belen', 'la union', 'desconocido', 'puerto jim&#201;nez', 'leon cortes', 'poas', 'tarrazu', 'san jose', 'san ramon', 'aserri', 'vasquez de coronado', 'sarch&#205;', 'paraiso', 'tilaran', 'canas', 'limon', 'perez zeledon', 'jimenez', 'tibas', 'sarapiqui', 'escazu', 'santa barbara', 'monteverde', None]\n"
     ]
    }
   ],
   "source": [
    "#Function find list the not match values in the dataframes\n",
    "def find_non_matches(df1,df2):\n",
    "    non_matches = []\n",
    "    for col in df1.columns:\n",
    "        if  col == 'Provincia' or col == 'Canton' or col == 'Distrito':\n",
    "            for row in df1.select(col).distinct().collect():\n",
    "                if not df2.filter(df2['Provincia, cantón y distrito'] == row[col]).collect():\n",
    "                    non_matches.append(row[col])\n",
    "    return non_matches\n",
    "\n",
    "non_matches_oij = find_non_matches(oij_df,inec_df)\n",
    "\n",
    "\n",
    "print(non_matches_oij)\n"
   ]
  },
  {
   "cell_type": "code",
   "execution_count": 19,
   "id": "3046964e",
   "metadata": {},
   "outputs": [
    {
     "name": "stdout",
     "output_type": "stream",
     "text": [
      "['islas', 'desconocido', 'desconocido', 'puerto jim&#201;nez', 'leon cortes', 'vasquez de coronado', 'sarch&#205;', 'monteverde', None]\n"
     ]
    }
   ],
   "source": [
    "#Function to replace the accents in column Provincia, cantón y distrito in inec_df\n",
    "def replace_accents(df):\n",
    "    df = df.withColumn('Provincia, cantón y distrito', regexp_replace('Provincia, cantón y distrito', 'á', 'a'))\n",
    "    df = df.withColumn('Provincia, cantón y distrito', regexp_replace('Provincia, cantón y distrito', 'é', 'e'))\n",
    "    df = df.withColumn('Provincia, cantón y distrito', regexp_replace('Provincia, cantón y distrito', 'í', 'i'))\n",
    "    df = df.withColumn('Provincia, cantón y distrito', regexp_replace('Provincia, cantón y distrito', 'ó', 'o'))\n",
    "    df = df.withColumn('Provincia, cantón y distrito', regexp_replace('Provincia, cantón y distrito', 'ú', 'u'))\n",
    "    df = df.withColumn('Provincia, cantón y distrito', regexp_replace('Provincia, cantón y distrito', 'ñ', 'n'))\n",
    "    return df\n",
    "\n",
    "inec_df = replace_accents(inec_df)\n",
    "nonMatches = find_non_matches(oij_df,inec_df)\n",
    "print(nonMatches)\n"
   ]
  },
  {
   "cell_type": "code",
   "execution_count": null,
   "id": "1e476025",
   "metadata": {},
   "outputs": [],
   "source": []
  }
 ],
 "metadata": {
  "kernelspec": {
   "display_name": "Python 3.8.10 64-bit",
   "language": "python",
   "name": "python3"
  },
  "language_info": {
   "codemirror_mode": {
    "name": "ipython",
    "version": 3
   },
   "file_extension": ".py",
   "mimetype": "text/x-python",
   "name": "python",
   "nbconvert_exporter": "python",
   "pygments_lexer": "ipython3",
   "version": "3.8.10"
  },
  "vscode": {
   "interpreter": {
    "hash": "916dbcbb3f70747c44a77c7bcd40155683ae19c65e1c03b4aa3499c5328201f1"
   }
  }
 },
 "nbformat": 4,
 "nbformat_minor": 5
}
