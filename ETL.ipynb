{
 "cells": [
  {
   "cell_type": "code",
   "execution_count": 15,
   "id": "51d3e8f5",
   "metadata": {},
   "outputs": [],
   "source": [
    "from pyspark.sql import SparkSession\n",
    "from pyspark.sql.functions import ltrim,rtrim,trim,col\n",
    "from pyspark.sql.functions import *\n",
    "spark = SparkSession.builder.appName(\"MyFirstCSV\").getOrCreate()\n"
   ]
  },
  {
   "cell_type": "code",
   "execution_count": 16,
   "id": "f5739b97",
   "metadata": {},
   "outputs": [],
   "source": [
    "#CREATE DATAFRAME FROM CSV FILE\n",
    "oij_df = spark.read.csv( path=\"OIJ.csv\", sep=\",\", header=True,quote='\"',inferSchema=True,)\n",
    "inec_df = spark.read.csv( path=\"INEC.csv\", sep=\";\", header=True,quote='\"',inferSchema=True,)"
   ]
  },
  {
   "cell_type": "code",
   "execution_count": 17,
   "id": "29dfe503",
   "metadata": {},
   "outputs": [
    {
     "name": "stdout",
     "output_type": "stream",
     "text": [
      "+------+-----------+-------------------+-------------------+--------+--------------------+-------------+------+------------+----------+----------+--------+----+\n",
      "|Delito|  SubDelito|              Fecha|               Hora| Victima|          SubVictima|         Edad|Genero|Nacionalidad| Provincia|    Canton|Distrito|_c12|\n",
      "+------+-----------+-------------------+-------------------+--------+--------------------+-------------+------+------------+----------+----------+--------+----+\n",
      "|ASALTO|ARMA BLANCA|2021-06-03 00:00:00|00:00:00 - 02:59:59|VEHICULO|SERVICIO PUBLICO/...|Mayor de edad|HOMBRE|  COSTA RICA|  san jose|alajuelita|    null|null|\n",
      "|ASALTO|ARMA BLANCA|2021-06-10 00:00:00|15:00:00 - 17:59:59| PERSONA|    PEATON [PERSONA]|Mayor de edad| MUJER|  COSTA RICA|  san jose|    escazu|    null|null|\n",
      "|ASALTO|ARMA BLANCA|2021-06-14 00:00:00|09:00:00 - 11:59:59| PERSONA|    PEATON [PERSONA]|Mayor de edad|HOMBRE|  COSTA RICA|guanacaste|    nicoya|    null|null|\n",
      "|ASALTO|ARMA BLANCA|2021-06-14 00:00:00|15:00:00 - 17:59:59| PERSONA|    PEATON [PERSONA]|Mayor de edad|HOMBRE|   NICARAGUA|   cartago|   cartago|    null|null|\n",
      "|ASALTO|ARMA BLANCA|2021-06-15 00:00:00|21:00:00 - 23:59:59| PERSONA|    PEATON [PERSONA]|Mayor de edad|HOMBRE|   NICARAGUA|  san jose|  san jose|    null|null|\n",
      "+------+-----------+-------------------+-------------------+--------+--------------------+-------------+------+------------+----------+----------+--------+----+\n",
      "only showing top 5 rows\n",
      "\n",
      "+----------------------------+--------------------------+--------------------------+-----------------+-------------------------+-----------------------------------------------+---------------------------------+------------------------------------------------+--------------------------------------------------+-------------------------------------------------+\n",
      "|Provincia, cantón y distrito|Población de 15 años y más|Tasa neta de participación|Tasa de ocupación|Tasa de desempleo abierto|Porcentaje de población económicamente inactiva|Relación de dependencia económica|Porcentaje de población ocupada  Sector Primario|Porcentaje de población ocupada  Sector Secundario|Porcentaje de población ocupada  Sector Terciario|\n",
      "+----------------------------+--------------------------+--------------------------+-----------------+-------------------------+-----------------------------------------------+---------------------------------+------------------------------------------------+--------------------------------------------------+-------------------------------------------------+\n",
      "|                        null|                      null|                      null|             null|                     null|                                           null|                             null|                                            null|                                              null|                                             null|\n",
      "|                        null|                      null|                      null|             null|                     null|                                           null|                             null|                                            13,9|                                              17,9|                                             68,2|\n",
      "|                  costa rica|                 3 233 882|                      53,5|             51,7|                      3,4|                                           46,5|                              1,5|                                            null|                                              null|                                             null|\n",
      "|                        null|                      null|                      null|             null|                     null|                                           null|                             null|                                             5,5|                                              17,3|                                             77,2|\n",
      "|                    san josé|                 1 087 315|                        56|             54,1|                      3,5|                                             44|                              1,3|                                            null|                                              null|                                             null|\n",
      "+----------------------------+--------------------------+--------------------------+-----------------+-------------------------+-----------------------------------------------+---------------------------------+------------------------------------------------+--------------------------------------------------+-------------------------------------------------+\n",
      "only showing top 5 rows\n",
      "\n"
     ]
    }
   ],
   "source": [
    "#Function to remove spaces from the beginning and end of the string\n",
    "def remove_spaces(df):\n",
    "    for col in df.columns:\n",
    "        if  col == 'Provincia' or col == 'Canton' or col == 'Distrito' or col == 'Provincia, cantón y distrito':\n",
    "            df = df.withColumn(col, trim(col))\n",
    "    return df\n",
    "\n",
    "#Function to parser the string to lowercase\n",
    "def to_lower_case(df):\n",
    "    for col in df.columns:\n",
    "        if  col == 'Provincia' or col == 'Canton' or col == 'Distrito' or col == 'Provincia, cantón y distrito':\n",
    "            df = df.withColumn(col, lower(col))\n",
    "    return df\n",
    "\n",
    "\n",
    "oij_df = remove_spaces(oij_df)\n",
    "inec_df = remove_spaces(inec_df)\n",
    "\n",
    "oij_df = to_lower_case(oij_df)\n",
    "inec_df = to_lower_case(inec_df)\n",
    "\n",
    "oij_df.show(5)\n",
    "inec_df.show(5)"
   ]
  },
  {
   "cell_type": "code",
   "execution_count": 18,
   "id": "bbdf9bf1",
   "metadata": {},
   "outputs": [
    {
     "name": "stdout",
     "output_type": "stream",
     "text": [
      "['san jose', 'limon', 'islas', 'desconocido', 'pococi', 'rio cuarto', 'guacimo', 'belen', 'la union', 'desconocido', 'puerto jim&#201;nez', 'leon cortes', 'poas', 'tarrazu', 'san jose', 'san ramon', 'aserri', 'vasquez de coronado', 'sarch&#205;', 'paraiso', 'tilaran', 'canas', 'limon', 'perez zeledon', 'jimenez', 'tibas', 'sarapiqui', 'escazu', 'santa barbara', 'monteverde', None]\n"
     ]
    }
   ],
   "source": [
    "#Function find list the not match values in the dataframes\n",
    "def find_non_matches(df1,df2):\n",
    "    non_matches = []\n",
    "    for col in df1.columns:\n",
    "        if  col == 'Provincia' or col == 'Canton' or col == 'Distrito':\n",
    "            for row in df1.select(col).distinct().collect():\n",
    "                if not df2.filter(df2['Provincia, cantón y distrito'] == row[col]).collect():\n",
    "                    non_matches.append(row[col])\n",
    "    return non_matches\n",
    "\n",
    "non_matches_oij = find_non_matches(oij_df,inec_df)\n",
    "\n",
    "\n",
    "#Function to parser the string to lowercase\n",
    "def to_lower_case(df):\n",
    "    for col in df.columns:\n",
    "        if  col == 'Provincia' or col == 'Canton' or col == 'Distrito' or col == 'Provincia, cantón y distrito':\n",
    "            df = df.withColumn(col, lower(col))\n",
    "    return df\n",
    "\n",
    "\n",
    "oij_df = remove_spaces(oij_df)\n",
    "inec_df = remove_spaces(inec_df)\n",
    "\n",
    "oij_df = to_lower_case(oij_df)\n",
    "inec_df = to_lower_case(inec_df)\n",
    "\n",
    "nonMatches = find_non_matches(oij_df,inec_df)\n",
    "print(nonMatches)\n",
    "#oij_df.show(5)\n",
    "#inec_df.show(5)\n"
   ]
  },
  {
   "cell_type": "code",
   "execution_count": 19,
   "id": "3046964e",
   "metadata": {},
   "outputs": [
    {
     "name": "stdout",
     "output_type": "stream",
     "text": [
      "['islas', 'desconocido', 'desconocido', 'puerto jim&#201;nez', 'leon cortes', 'vasquez de coronado', 'sarch&#205;', 'monteverde', None]\n"
     ]
    }
   ],
   "source": [
    "#Function to replace the accents in column Provincia, cantón y distrito in inec_df\n",
    "def replace_accents(df):\n",
    "    df = df.withColumn('Provincia, cantón y distrito', regexp_replace('Provincia, cantón y distrito', 'á', 'a'))\n",
    "    df = df.withColumn('Provincia, cantón y distrito', regexp_replace('Provincia, cantón y distrito', 'é', 'e'))\n",
    "    df = df.withColumn('Provincia, cantón y distrito', regexp_replace('Provincia, cantón y distrito', 'í', 'i'))\n",
    "    df = df.withColumn('Provincia, cantón y distrito', regexp_replace('Provincia, cantón y distrito', 'ó', 'o'))\n",
    "    df = df.withColumn('Provincia, cantón y distrito', regexp_replace('Provincia, cantón y distrito', 'ú', 'u'))\n",
    "    df = df.withColumn('Provincia, cantón y distrito', regexp_replace('Provincia, cantón y distrito', 'ñ', 'n'))\n",
    "    return df\n",
    "\n",
    "inec_df = replace_accents(inec_df)\n",
    "nonMatches = find_non_matches(oij_df,inec_df)\n",
    "print(nonMatches)\n"
   ]
  },
  {
   "cell_type": "code",
   "execution_count": 20,
   "id": "1e476025",
   "metadata": {},
   "outputs": [
    {
     "name": "stdout",
     "output_type": "stream",
     "text": [
      "+----------------------------+--------------------------+--------------------------+-----------------+-------------------------+-----------------------------------------------+---------------------------------+------------------------------------------------+--------------------------------------------------+-------------------------------------------------+--------------+-----------+-------------+\n",
      "|Provincia, cantón y distrito|Población de 15 años y más|Tasa neta de participación|Tasa de ocupación|Tasa de desempleo abierto|Porcentaje de población económicamente inactiva|Relación de dependencia económica|Porcentaje de población ocupada  Sector Primario|Porcentaje de población ocupada  Sector Secundario|Porcentaje de población ocupada  Sector Terciario|ProvinciaUnida|CantonUnido|DistritoUnido|\n",
      "+----------------------------+--------------------------+--------------------------+-----------------+-------------------------+-----------------------------------------------+---------------------------------+------------------------------------------------+--------------------------------------------------+-------------------------------------------------+--------------+-----------+-------------+\n",
      "|                        null|                      null|                      null|             null|                     null|                                           null|                             null|                                            null|                                              null|                                             null|          null|       null|         null|\n",
      "|                        null|                      null|                      null|             null|                     null|                                           null|                             null|                                            13,9|                                              17,9|                                             68,2|          null|       null|         null|\n",
      "|                  costa rica|                 3 233 882|                      53,5|             51,7|                      3,4|                                           46,5|                              1,5|                                            null|                                              null|                                             null|    costa rica|       null|         null|\n",
      "|                        null|                      null|                      null|             null|                     null|                                           null|                             null|                                             5,5|                                              17,3|                                             77,2|          null|       null|         null|\n",
      "|                    san jose|                 1 087 315|                        56|             54,1|                      3,5|                                             44|                              1,3|                                            null|                                              null|                                             null|      san jose|       null|         null|\n",
      "+----------------------------+--------------------------+--------------------------+-----------------+-------------------------+-----------------------------------------------+---------------------------------+------------------------------------------------+--------------------------------------------------+-------------------------------------------------+--------------+-----------+-------------+\n",
      "only showing top 5 rows\n",
      "\n"
     ]
    }
   ],
   "source": [
    "#Fucntion to separate column Provincia, cantón y distrito in inec_df in three columns\n",
    "def separate_columns(df):\n",
    "    df = df.withColumn('ProvinciaUnida', split(col('Provincia, cantón y distrito'), ',').getItem(0))\n",
    "    df = df.withColumn('CantonUnido', split(col('Provincia, cantón y distrito'), ',').getItem(1))\n",
    "    df = df.withColumn('DistritoUnido', split(col('Provincia, cantón y distrito'), ',').getItem(2))\n",
    "    return df\n",
    "\n",
    "inec_df = separate_columns(inec_df)\n",
    "inec_df.show(5)"
   ]
  },
  {
   "cell_type": "code",
   "execution_count": 21,
   "id": "5daf9f8d",
   "metadata": {},
   "outputs": [],
   "source": [
    "#Function to remove column Provincia, cantón y distrito in inec_df\n",
    "def remove_column(df):\n",
    "    df = df.drop('Provincia, cantón y distrito')\n",
    "    return df\n",
    "\n",
    "inec_df = remove_column(inec_df)"
   ]
  },
  {
   "cell_type": "code",
   "execution_count": 22,
   "id": "162d76ed",
   "metadata": {},
   "outputs": [
    {
     "name": "stdout",
     "output_type": "stream",
     "text": [
      "+------+-----------+-------------------+-------------------+--------+--------------------+-------------+-----------+------------+----------+----------+--------+----+--------------------------+--------------------------+-----------------+-------------------------+-----------------------------------------------+---------------------------------+------------------------------------------------+--------------------------------------------------+-------------------------------------------------+--------------+-----------+-------------+\n",
      "|Delito|  SubDelito|              Fecha|               Hora| Victima|          SubVictima|         Edad|     Genero|Nacionalidad| Provincia|    Canton|Distrito|_c12|Población de 15 años y más|Tasa neta de participación|Tasa de ocupación|Tasa de desempleo abierto|Porcentaje de población económicamente inactiva|Relación de dependencia económica|Porcentaje de población ocupada  Sector Primario|Porcentaje de población ocupada  Sector Secundario|Porcentaje de población ocupada  Sector Terciario|ProvinciaUnida|CantonUnido|DistritoUnido|\n",
      "+------+-----------+-------------------+-------------------+--------+--------------------+-------------+-----------+------------+----------+----------+--------+----+--------------------------+--------------------------+-----------------+-------------------------+-----------------------------------------------+---------------------------------+------------------------------------------------+--------------------------------------------------+-------------------------------------------------+--------------+-----------+-------------+\n",
      "|ASALTO|ARMA BLANCA|2021-06-03 00:00:00|00:00:00 - 02:59:59|VEHICULO|SERVICIO PUBLICO/...|Mayor de edad|     HOMBRE|  COSTA RICA|  san jose|alajuelita|    null|null|                 1 087 315|                        56|             54,1|                      3,5|                                             44|                              1,3|                                            null|                                              null|                                             null|      san jose|       null|         null|\n",
      "|ASALTO|ARMA BLANCA|2021-06-03 00:00:00|00:00:00 - 02:59:59|VEHICULO|SERVICIO PUBLICO/...|Mayor de edad|     HOMBRE|  COSTA RICA|  san jose|alajuelita|    null|null|                   225 856|                      56,7|             54,5|                      3,9|                                           43,3|                              1,2|                                            null|                                              null|                                             null|      san jose|       null|         null|\n",
      "|ASALTO|ARMA BLANCA|2021-06-03 00:00:00|00:00:00 - 02:59:59|VEHICULO|SERVICIO PUBLICO/...|Mayor de edad|     HOMBRE|  COSTA RICA|  san jose|alajuelita|    null|null|                    32 052|                      56,7|             54,7|                      3,5|                                           43,3|                              1,3|                                            14,9|                                              21,7|                                             63,5|      san jose|       null|         null|\n",
      "|ASALTO|ARMA BLANCA|2021-06-03 00:00:00|00:00:00 - 02:59:59|VEHICULO|SERVICIO PUBLICO/...|Mayor de edad|     HOMBRE|  COSTA RICA|  san jose|alajuelita|    null|null|                     6 064|                      53,7|             52,5|                      2,3|                                           46,3|                              1,5|                                             8,1|                                              26,7|                                             65,2|      san jose|       null|         null|\n",
      "|ASALTO|ARMA BLANCA|2021-06-03 00:00:00|00:00:00 - 02:59:59|VEHICULO|SERVICIO PUBLICO/...|Mayor de edad|     HOMBRE|  COSTA RICA|  san jose|alajuelita|    null|null|                     1 499|                      50,6|             49,4|                      2,2|                                           49,4|                              1,6|                                            21,2|                                              21,3|                                             57,4|      san jose|       null|         null|\n",
      "|ASALTO|ARMA BLANCA|2021-06-03 00:00:00|00:00:00 - 02:59:59|VEHICULO|SERVICIO PUBLICO/...|Mayor de edad|     HOMBRE|  COSTA RICA|  san jose|alajuelita|    null|null|                     2 415|                      49,4|             48,3|                      2,2|                                           50,6|                              1,7|                                            26,5|                                              22,5|                                               51|      san jose|       null|         null|\n",
      "|ASALTO|ARMA BLANCA|2021-06-03 00:00:00|00:00:00 - 02:59:59|VEHICULO|SERVICIO PUBLICO/...|Mayor de edad|     HOMBRE|  COSTA RICA|  san jose|alajuelita|    null|null|                     5 750|                      59,5|             58,2|                      2,1|                                           40,5|                              1,2|                                             7,4|                                              16,7|                                             75,9|      san jose|       null|         null|\n",
      "|ASALTO|ARMA BLANCA|2021-06-10 00:00:00|15:00:00 - 17:59:59| PERSONA|    PEATON [PERSONA]|Mayor de edad|      MUJER|  COSTA RICA|  san jose|    escazu|    null|null|                 1 087 315|                        56|             54,1|                      3,5|                                             44|                              1,3|                                            null|                                              null|                                             null|      san jose|       null|         null|\n",
      "|ASALTO|ARMA BLANCA|2021-06-10 00:00:00|15:00:00 - 17:59:59| PERSONA|    PEATON [PERSONA]|Mayor de edad|      MUJER|  COSTA RICA|  san jose|    escazu|    null|null|                   225 856|                      56,7|             54,5|                      3,9|                                           43,3|                              1,2|                                            null|                                              null|                                             null|      san jose|       null|         null|\n",
      "|ASALTO|ARMA BLANCA|2021-06-10 00:00:00|15:00:00 - 17:59:59| PERSONA|    PEATON [PERSONA]|Mayor de edad|      MUJER|  COSTA RICA|  san jose|    escazu|    null|null|                    32 052|                      56,7|             54,7|                      3,5|                                           43,3|                              1,3|                                            14,9|                                              21,7|                                             63,5|      san jose|       null|         null|\n",
      "|ASALTO|ARMA BLANCA|2021-06-10 00:00:00|15:00:00 - 17:59:59| PERSONA|    PEATON [PERSONA]|Mayor de edad|      MUJER|  COSTA RICA|  san jose|    escazu|    null|null|                     6 064|                      53,7|             52,5|                      2,3|                                           46,3|                              1,5|                                             8,1|                                              26,7|                                             65,2|      san jose|       null|         null|\n",
      "|ASALTO|ARMA BLANCA|2021-06-10 00:00:00|15:00:00 - 17:59:59| PERSONA|    PEATON [PERSONA]|Mayor de edad|      MUJER|  COSTA RICA|  san jose|    escazu|    null|null|                     1 499|                      50,6|             49,4|                      2,2|                                           49,4|                              1,6|                                            21,2|                                              21,3|                                             57,4|      san jose|       null|         null|\n",
      "|ASALTO|ARMA BLANCA|2021-06-10 00:00:00|15:00:00 - 17:59:59| PERSONA|    PEATON [PERSONA]|Mayor de edad|      MUJER|  COSTA RICA|  san jose|    escazu|    null|null|                     2 415|                      49,4|             48,3|                      2,2|                                           50,6|                              1,7|                                            26,5|                                              22,5|                                               51|      san jose|       null|         null|\n",
      "|ASALTO|ARMA BLANCA|2021-06-10 00:00:00|15:00:00 - 17:59:59| PERSONA|    PEATON [PERSONA]|Mayor de edad|      MUJER|  COSTA RICA|  san jose|    escazu|    null|null|                     5 750|                      59,5|             58,2|                      2,1|                                           40,5|                              1,2|                                             7,4|                                              16,7|                                             75,9|      san jose|       null|         null|\n",
      "|ASALTO|ARMA BLANCA|2021-06-14 00:00:00|09:00:00 - 11:59:59| PERSONA|    PEATON [PERSONA]|Mayor de edad|     HOMBRE|  COSTA RICA|guanacaste|    nicoya|    null|null|                   241 166|                      47,4|             45,4|                      4,2|                                           52,6|                              1,9|                                            null|                                              null|                                             null|    guanacaste|       null|         null|\n",
      "|ASALTO|ARMA BLANCA|2021-06-14 00:00:00|15:00:00 - 17:59:59| PERSONA|    PEATON [PERSONA]|Mayor de edad|     HOMBRE|   NICARAGUA|   cartago|   cartago|    null|null|                   372 280|                      53,4|             51,7|                      3,2|                                           46,6|                              1,5|                                            null|                                              null|                                             null|       cartago|       null|         null|\n",
      "|ASALTO|ARMA BLANCA|2021-06-14 00:00:00|15:00:00 - 17:59:59| PERSONA|    PEATON [PERSONA]|Mayor de edad|     HOMBRE|   NICARAGUA|   cartago|   cartago|    null|null|                   113 972|                      53,2|             51,4|                      3,3|                                           46,8|                              1,4|                                            null|                                              null|                                             null|       cartago|       null|         null|\n",
      "|ASALTO|ARMA BLANCA|2021-06-15 00:00:00|21:00:00 - 23:59:59| PERSONA|    PEATON [PERSONA]|Mayor de edad|     HOMBRE|   NICARAGUA|  san jose|  san jose|    null|null|                 1 087 315|                        56|             54,1|                      3,5|                                             44|                              1,3|                                            null|                                              null|                                             null|      san jose|       null|         null|\n",
      "|ASALTO|ARMA BLANCA|2021-06-15 00:00:00|21:00:00 - 23:59:59| PERSONA|    PEATON [PERSONA]|Mayor de edad|     HOMBRE|   NICARAGUA|  san jose|  san jose|    null|null|                   225 856|                      56,7|             54,5|                      3,9|                                           43,3|                              1,2|                                            null|                                              null|                                             null|      san jose|       null|         null|\n",
      "|ASALTO|ARMA BLANCA|2021-06-15 00:00:00|21:00:00 - 23:59:59| PERSONA|    PEATON [PERSONA]|Mayor de edad|     HOMBRE|   NICARAGUA|  san jose|  san jose|    null|null|                    32 052|                      56,7|             54,7|                      3,5|                                           43,3|                              1,3|                                            14,9|                                              21,7|                                             63,5|      san jose|       null|         null|\n",
      "|ASALTO|ARMA BLANCA|2021-06-15 00:00:00|21:00:00 - 23:59:59| PERSONA|    PEATON [PERSONA]|Mayor de edad|     HOMBRE|   NICARAGUA|  san jose|  san jose|    null|null|                     6 064|                      53,7|             52,5|                      2,3|                                           46,3|                              1,5|                                             8,1|                                              26,7|                                             65,2|      san jose|       null|         null|\n",
      "|ASALTO|ARMA BLANCA|2021-06-15 00:00:00|21:00:00 - 23:59:59| PERSONA|    PEATON [PERSONA]|Mayor de edad|     HOMBRE|   NICARAGUA|  san jose|  san jose|    null|null|                     1 499|                      50,6|             49,4|                      2,2|                                           49,4|                              1,6|                                            21,2|                                              21,3|                                             57,4|      san jose|       null|         null|\n",
      "|ASALTO|ARMA BLANCA|2021-06-15 00:00:00|21:00:00 - 23:59:59| PERSONA|    PEATON [PERSONA]|Mayor de edad|     HOMBRE|   NICARAGUA|  san jose|  san jose|    null|null|                     2 415|                      49,4|             48,3|                      2,2|                                           50,6|                              1,7|                                            26,5|                                              22,5|                                               51|      san jose|       null|         null|\n",
      "|ASALTO|ARMA BLANCA|2021-06-15 00:00:00|21:00:00 - 23:59:59| PERSONA|    PEATON [PERSONA]|Mayor de edad|     HOMBRE|   NICARAGUA|  san jose|  san jose|    null|null|                     5 750|                      59,5|             58,2|                      2,1|                                           40,5|                              1,2|                                             7,4|                                              16,7|                                             75,9|      san jose|       null|         null|\n",
      "|ASALTO|ARMA BLANCA|2021-06-17 00:00:00|18:00:00 - 20:59:59| PERSONA|    PEATON [PERSONA]|Mayor de edad|DESCONOCIDO|  COSTA RICA|  san jose|  san jose|    null|null|                 1 087 315|                        56|             54,1|                      3,5|                                             44|                              1,3|                                            null|                                              null|                                             null|      san jose|       null|         null|\n",
      "+------+-----------+-------------------+-------------------+--------+--------------------+-------------+-----------+------------+----------+----------+--------+----+--------------------------+--------------------------+-----------------+-------------------------+-----------------------------------------------+---------------------------------+------------------------------------------------+--------------------------------------------------+-------------------------------------------------+--------------+-----------+-------------+\n",
      "only showing top 25 rows\n",
      "\n"
     ]
    }
   ],
   "source": [
    "#Function to create a new dataframe with inec_df and oij_df when provincia, canton and distrito are equals\n",
    "def join_dataframes(df1,df2):\n",
    "    df = df1.join(df2, (df1.Provincia == df2.ProvinciaUnida) | (df1.Canton == df2.CantonUnido) | (df1.Distrito == df2.DistritoUnido), 'inner')\n",
    "    return df\n",
    "\n",
    "df = join_dataframes(oij_df,inec_df)\n",
    "df.show(25)\n"
   ]
  },
  {
   "cell_type": "code",
   "execution_count": 30,
   "id": "ebda3932",
   "metadata": {},
   "outputs": [
    {
     "ename": "Py4JJavaError",
     "evalue": "An error occurred while calling o2747.jdbc.\n: java.sql.SQLException: No suitable driver\n\tat java.sql/java.sql.DriverManager.getDriver(DriverManager.java:298)\n\tat org.apache.spark.sql.execution.datasources.jdbc.JDBCOptions.$anonfun$driverClass$2(JDBCOptions.scala:107)\n\tat scala.Option.getOrElse(Option.scala:189)\n\tat org.apache.spark.sql.execution.datasources.jdbc.JDBCOptions.<init>(JDBCOptions.scala:107)\n\tat org.apache.spark.sql.execution.datasources.jdbc.JdbcOptionsInWrite.<init>(JDBCOptions.scala:229)\n\tat org.apache.spark.sql.execution.datasources.jdbc.JdbcOptionsInWrite.<init>(JDBCOptions.scala:233)\n\tat org.apache.spark.sql.execution.datasources.jdbc.JdbcRelationProvider.createRelation(JdbcRelationProvider.scala:47)\n\tat org.apache.spark.sql.execution.datasources.SaveIntoDataSourceCommand.run(SaveIntoDataSourceCommand.scala:47)\n\tat org.apache.spark.sql.execution.command.ExecutedCommandExec.sideEffectResult$lzycompute(commands.scala:75)\n\tat org.apache.spark.sql.execution.command.ExecutedCommandExec.sideEffectResult(commands.scala:73)\n\tat org.apache.spark.sql.execution.command.ExecutedCommandExec.executeCollect(commands.scala:84)\n\tat org.apache.spark.sql.execution.QueryExecution$$anonfun$eagerlyExecuteCommands$1.$anonfun$applyOrElse$1(QueryExecution.scala:98)\n\tat org.apache.spark.sql.execution.SQLExecution$.$anonfun$withNewExecutionId$6(SQLExecution.scala:109)\n\tat org.apache.spark.sql.execution.SQLExecution$.withSQLConfPropagated(SQLExecution.scala:169)\n\tat org.apache.spark.sql.execution.SQLExecution$.$anonfun$withNewExecutionId$1(SQLExecution.scala:95)\n\tat org.apache.spark.sql.SparkSession.withActive(SparkSession.scala:779)\n\tat org.apache.spark.sql.execution.SQLExecution$.withNewExecutionId(SQLExecution.scala:64)\n\tat org.apache.spark.sql.execution.QueryExecution$$anonfun$eagerlyExecuteCommands$1.applyOrElse(QueryExecution.scala:98)\n\tat org.apache.spark.sql.execution.QueryExecution$$anonfun$eagerlyExecuteCommands$1.applyOrElse(QueryExecution.scala:94)\n\tat org.apache.spark.sql.catalyst.trees.TreeNode.$anonfun$transformDownWithPruning$1(TreeNode.scala:584)\n\tat org.apache.spark.sql.catalyst.trees.CurrentOrigin$.withOrigin(TreeNode.scala:176)\n\tat org.apache.spark.sql.catalyst.trees.TreeNode.transformDownWithPruning(TreeNode.scala:584)\n\tat org.apache.spark.sql.catalyst.plans.logical.LogicalPlan.org$apache$spark$sql$catalyst$plans$logical$AnalysisHelper$$super$transformDownWithPruning(LogicalPlan.scala:30)\n\tat org.apache.spark.sql.catalyst.plans.logical.AnalysisHelper.transformDownWithPruning(AnalysisHelper.scala:267)\n\tat org.apache.spark.sql.catalyst.plans.logical.AnalysisHelper.transformDownWithPruning$(AnalysisHelper.scala:263)\n\tat org.apache.spark.sql.catalyst.plans.logical.LogicalPlan.transformDownWithPruning(LogicalPlan.scala:30)\n\tat org.apache.spark.sql.catalyst.plans.logical.LogicalPlan.transformDownWithPruning(LogicalPlan.scala:30)\n\tat org.apache.spark.sql.catalyst.trees.TreeNode.transformDown(TreeNode.scala:560)\n\tat org.apache.spark.sql.execution.QueryExecution.eagerlyExecuteCommands(QueryExecution.scala:94)\n\tat org.apache.spark.sql.execution.QueryExecution.commandExecuted$lzycompute(QueryExecution.scala:81)\n\tat org.apache.spark.sql.execution.QueryExecution.commandExecuted(QueryExecution.scala:79)\n\tat org.apache.spark.sql.execution.QueryExecution.assertCommandExecuted(QueryExecution.scala:116)\n\tat org.apache.spark.sql.DataFrameWriter.runCommand(DataFrameWriter.scala:860)\n\tat org.apache.spark.sql.DataFrameWriter.saveToV1Source(DataFrameWriter.scala:390)\n\tat org.apache.spark.sql.DataFrameWriter.saveInternal(DataFrameWriter.scala:363)\n\tat org.apache.spark.sql.DataFrameWriter.save(DataFrameWriter.scala:247)\n\tat org.apache.spark.sql.DataFrameWriter.jdbc(DataFrameWriter.scala:757)\n\tat java.base/jdk.internal.reflect.NativeMethodAccessorImpl.invoke0(Native Method)\n\tat java.base/jdk.internal.reflect.NativeMethodAccessorImpl.invoke(NativeMethodAccessorImpl.java:62)\n\tat java.base/jdk.internal.reflect.DelegatingMethodAccessorImpl.invoke(DelegatingMethodAccessorImpl.java:43)\n\tat java.base/java.lang.reflect.Method.invoke(Method.java:566)\n\tat py4j.reflection.MethodInvoker.invoke(MethodInvoker.java:244)\n\tat py4j.reflection.ReflectionEngine.invoke(ReflectionEngine.java:357)\n\tat py4j.Gateway.invoke(Gateway.java:282)\n\tat py4j.commands.AbstractCommand.invokeMethod(AbstractCommand.java:132)\n\tat py4j.commands.CallCommand.execute(CallCommand.java:79)\n\tat py4j.ClientServerConnection.waitForCommands(ClientServerConnection.java:182)\n\tat py4j.ClientServerConnection.run(ClientServerConnection.java:106)\n\tat java.base/java.lang.Thread.run(Thread.java:829)\n",
     "output_type": "error",
     "traceback": [
      "\u001b[0;31m---------------------------------------------------------------------------\u001b[0m",
      "\u001b[0;31mPy4JJavaError\u001b[0m                             Traceback (most recent call last)",
      "\u001b[0;32m<ipython-input-30-a83c8f703a94>\u001b[0m in \u001b[0;36m<module>\u001b[0;34m\u001b[0m\n\u001b[1;32m      3\u001b[0m \u001b[0;34m\u001b[0m\u001b[0m\n\u001b[1;32m      4\u001b[0m \u001b[0;31m#Save the dataframe in a postgresql database\u001b[0m\u001b[0;34m\u001b[0m\u001b[0;34m\u001b[0m\u001b[0;34m\u001b[0m\u001b[0m\n\u001b[0;32m----> 5\u001b[0;31m \u001b[0mdf\u001b[0m\u001b[0;34m.\u001b[0m\u001b[0mwrite\u001b[0m\u001b[0;34m.\u001b[0m\u001b[0mjdbc\u001b[0m\u001b[0;34m(\u001b[0m\u001b[0murl\u001b[0m\u001b[0;34m=\u001b[0m\u001b[0;34m\"jdbc:postgresql://localhost:5432/etl\"\u001b[0m\u001b[0;34m,\u001b[0m \u001b[0mtable\u001b[0m\u001b[0;34m=\u001b[0m\u001b[0;34m\"etl\"\u001b[0m\u001b[0;34m,\u001b[0m \u001b[0mmode\u001b[0m\u001b[0;34m=\u001b[0m\u001b[0;34m\"overwrite\"\u001b[0m\u001b[0;34m,\u001b[0m \u001b[0mproperties\u001b[0m\u001b[0;34m=\u001b[0m\u001b[0;34m{\u001b[0m\u001b[0;34m\"user\"\u001b[0m\u001b[0;34m:\u001b[0m \u001b[0;34m\"postgres\"\u001b[0m\u001b[0;34m,\u001b[0m \u001b[0;34m\"password\"\u001b[0m\u001b[0;34m:\u001b[0m \u001b[0;34m\"Legolas00\"\u001b[0m\u001b[0;34m}\u001b[0m\u001b[0;34m)\u001b[0m\u001b[0;34m\u001b[0m\u001b[0;34m\u001b[0m\u001b[0m\n\u001b[0m",
      "\u001b[0;32m~/.local/lib/python3.8/site-packages/pyspark/sql/readwriter.py\u001b[0m in \u001b[0;36mjdbc\u001b[0;34m(self, url, table, mode, properties)\u001b[0m\n\u001b[1;32m   1338\u001b[0m         \u001b[0;32mfor\u001b[0m \u001b[0mk\u001b[0m \u001b[0;32min\u001b[0m \u001b[0mproperties\u001b[0m\u001b[0;34m:\u001b[0m\u001b[0;34m\u001b[0m\u001b[0;34m\u001b[0m\u001b[0m\n\u001b[1;32m   1339\u001b[0m             \u001b[0mjprop\u001b[0m\u001b[0;34m.\u001b[0m\u001b[0msetProperty\u001b[0m\u001b[0;34m(\u001b[0m\u001b[0mk\u001b[0m\u001b[0;34m,\u001b[0m \u001b[0mproperties\u001b[0m\u001b[0;34m[\u001b[0m\u001b[0mk\u001b[0m\u001b[0;34m]\u001b[0m\u001b[0;34m)\u001b[0m\u001b[0;34m\u001b[0m\u001b[0;34m\u001b[0m\u001b[0m\n\u001b[0;32m-> 1340\u001b[0;31m         \u001b[0mself\u001b[0m\u001b[0;34m.\u001b[0m\u001b[0mmode\u001b[0m\u001b[0;34m(\u001b[0m\u001b[0mmode\u001b[0m\u001b[0;34m)\u001b[0m\u001b[0;34m.\u001b[0m\u001b[0m_jwrite\u001b[0m\u001b[0;34m.\u001b[0m\u001b[0mjdbc\u001b[0m\u001b[0;34m(\u001b[0m\u001b[0murl\u001b[0m\u001b[0;34m,\u001b[0m \u001b[0mtable\u001b[0m\u001b[0;34m,\u001b[0m \u001b[0mjprop\u001b[0m\u001b[0;34m)\u001b[0m\u001b[0;34m\u001b[0m\u001b[0;34m\u001b[0m\u001b[0m\n\u001b[0m\u001b[1;32m   1341\u001b[0m \u001b[0;34m\u001b[0m\u001b[0m\n\u001b[1;32m   1342\u001b[0m \u001b[0;34m\u001b[0m\u001b[0m\n",
      "\u001b[0;32m~/.local/lib/python3.8/site-packages/py4j/java_gateway.py\u001b[0m in \u001b[0;36m__call__\u001b[0;34m(self, *args)\u001b[0m\n\u001b[1;32m   1319\u001b[0m \u001b[0;34m\u001b[0m\u001b[0m\n\u001b[1;32m   1320\u001b[0m         \u001b[0manswer\u001b[0m \u001b[0;34m=\u001b[0m \u001b[0mself\u001b[0m\u001b[0;34m.\u001b[0m\u001b[0mgateway_client\u001b[0m\u001b[0;34m.\u001b[0m\u001b[0msend_command\u001b[0m\u001b[0;34m(\u001b[0m\u001b[0mcommand\u001b[0m\u001b[0;34m)\u001b[0m\u001b[0;34m\u001b[0m\u001b[0;34m\u001b[0m\u001b[0m\n\u001b[0;32m-> 1321\u001b[0;31m         return_value = get_return_value(\n\u001b[0m\u001b[1;32m   1322\u001b[0m             answer, self.gateway_client, self.target_id, self.name)\n\u001b[1;32m   1323\u001b[0m \u001b[0;34m\u001b[0m\u001b[0m\n",
      "\u001b[0;32m~/.local/lib/python3.8/site-packages/pyspark/sql/utils.py\u001b[0m in \u001b[0;36mdeco\u001b[0;34m(*a, **kw)\u001b[0m\n\u001b[1;32m    188\u001b[0m     \u001b[0;32mdef\u001b[0m \u001b[0mdeco\u001b[0m\u001b[0;34m(\u001b[0m\u001b[0;34m*\u001b[0m\u001b[0ma\u001b[0m\u001b[0;34m:\u001b[0m \u001b[0mAny\u001b[0m\u001b[0;34m,\u001b[0m \u001b[0;34m**\u001b[0m\u001b[0mkw\u001b[0m\u001b[0;34m:\u001b[0m \u001b[0mAny\u001b[0m\u001b[0;34m)\u001b[0m \u001b[0;34m->\u001b[0m \u001b[0mAny\u001b[0m\u001b[0;34m:\u001b[0m\u001b[0;34m\u001b[0m\u001b[0;34m\u001b[0m\u001b[0m\n\u001b[1;32m    189\u001b[0m         \u001b[0;32mtry\u001b[0m\u001b[0;34m:\u001b[0m\u001b[0;34m\u001b[0m\u001b[0;34m\u001b[0m\u001b[0m\n\u001b[0;32m--> 190\u001b[0;31m             \u001b[0;32mreturn\u001b[0m \u001b[0mf\u001b[0m\u001b[0;34m(\u001b[0m\u001b[0;34m*\u001b[0m\u001b[0ma\u001b[0m\u001b[0;34m,\u001b[0m \u001b[0;34m**\u001b[0m\u001b[0mkw\u001b[0m\u001b[0;34m)\u001b[0m\u001b[0;34m\u001b[0m\u001b[0;34m\u001b[0m\u001b[0m\n\u001b[0m\u001b[1;32m    191\u001b[0m         \u001b[0;32mexcept\u001b[0m \u001b[0mPy4JJavaError\u001b[0m \u001b[0;32mas\u001b[0m \u001b[0me\u001b[0m\u001b[0;34m:\u001b[0m\u001b[0;34m\u001b[0m\u001b[0;34m\u001b[0m\u001b[0m\n\u001b[1;32m    192\u001b[0m             \u001b[0mconverted\u001b[0m \u001b[0;34m=\u001b[0m \u001b[0mconvert_exception\u001b[0m\u001b[0;34m(\u001b[0m\u001b[0me\u001b[0m\u001b[0;34m.\u001b[0m\u001b[0mjava_exception\u001b[0m\u001b[0;34m)\u001b[0m\u001b[0;34m\u001b[0m\u001b[0;34m\u001b[0m\u001b[0m\n",
      "\u001b[0;32m~/.local/lib/python3.8/site-packages/py4j/protocol.py\u001b[0m in \u001b[0;36mget_return_value\u001b[0;34m(answer, gateway_client, target_id, name)\u001b[0m\n\u001b[1;32m    324\u001b[0m             \u001b[0mvalue\u001b[0m \u001b[0;34m=\u001b[0m \u001b[0mOUTPUT_CONVERTER\u001b[0m\u001b[0;34m[\u001b[0m\u001b[0mtype\u001b[0m\u001b[0;34m]\u001b[0m\u001b[0;34m(\u001b[0m\u001b[0manswer\u001b[0m\u001b[0;34m[\u001b[0m\u001b[0;36m2\u001b[0m\u001b[0;34m:\u001b[0m\u001b[0;34m]\u001b[0m\u001b[0;34m,\u001b[0m \u001b[0mgateway_client\u001b[0m\u001b[0;34m)\u001b[0m\u001b[0;34m\u001b[0m\u001b[0;34m\u001b[0m\u001b[0m\n\u001b[1;32m    325\u001b[0m             \u001b[0;32mif\u001b[0m \u001b[0manswer\u001b[0m\u001b[0;34m[\u001b[0m\u001b[0;36m1\u001b[0m\u001b[0;34m]\u001b[0m \u001b[0;34m==\u001b[0m \u001b[0mREFERENCE_TYPE\u001b[0m\u001b[0;34m:\u001b[0m\u001b[0;34m\u001b[0m\u001b[0;34m\u001b[0m\u001b[0m\n\u001b[0;32m--> 326\u001b[0;31m                 raise Py4JJavaError(\n\u001b[0m\u001b[1;32m    327\u001b[0m                     \u001b[0;34m\"An error occurred while calling {0}{1}{2}.\\n\"\u001b[0m\u001b[0;34m.\u001b[0m\u001b[0;34m\u001b[0m\u001b[0;34m\u001b[0m\u001b[0m\n\u001b[1;32m    328\u001b[0m                     format(target_id, \".\", name), value)\n",
      "\u001b[0;31mPy4JJavaError\u001b[0m: An error occurred while calling o2747.jdbc.\n: java.sql.SQLException: No suitable driver\n\tat java.sql/java.sql.DriverManager.getDriver(DriverManager.java:298)\n\tat org.apache.spark.sql.execution.datasources.jdbc.JDBCOptions.$anonfun$driverClass$2(JDBCOptions.scala:107)\n\tat scala.Option.getOrElse(Option.scala:189)\n\tat org.apache.spark.sql.execution.datasources.jdbc.JDBCOptions.<init>(JDBCOptions.scala:107)\n\tat org.apache.spark.sql.execution.datasources.jdbc.JdbcOptionsInWrite.<init>(JDBCOptions.scala:229)\n\tat org.apache.spark.sql.execution.datasources.jdbc.JdbcOptionsInWrite.<init>(JDBCOptions.scala:233)\n\tat org.apache.spark.sql.execution.datasources.jdbc.JdbcRelationProvider.createRelation(JdbcRelationProvider.scala:47)\n\tat org.apache.spark.sql.execution.datasources.SaveIntoDataSourceCommand.run(SaveIntoDataSourceCommand.scala:47)\n\tat org.apache.spark.sql.execution.command.ExecutedCommandExec.sideEffectResult$lzycompute(commands.scala:75)\n\tat org.apache.spark.sql.execution.command.ExecutedCommandExec.sideEffectResult(commands.scala:73)\n\tat org.apache.spark.sql.execution.command.ExecutedCommandExec.executeCollect(commands.scala:84)\n\tat org.apache.spark.sql.execution.QueryExecution$$anonfun$eagerlyExecuteCommands$1.$anonfun$applyOrElse$1(QueryExecution.scala:98)\n\tat org.apache.spark.sql.execution.SQLExecution$.$anonfun$withNewExecutionId$6(SQLExecution.scala:109)\n\tat org.apache.spark.sql.execution.SQLExecution$.withSQLConfPropagated(SQLExecution.scala:169)\n\tat org.apache.spark.sql.execution.SQLExecution$.$anonfun$withNewExecutionId$1(SQLExecution.scala:95)\n\tat org.apache.spark.sql.SparkSession.withActive(SparkSession.scala:779)\n\tat org.apache.spark.sql.execution.SQLExecution$.withNewExecutionId(SQLExecution.scala:64)\n\tat org.apache.spark.sql.execution.QueryExecution$$anonfun$eagerlyExecuteCommands$1.applyOrElse(QueryExecution.scala:98)\n\tat org.apache.spark.sql.execution.QueryExecution$$anonfun$eagerlyExecuteCommands$1.applyOrElse(QueryExecution.scala:94)\n\tat org.apache.spark.sql.catalyst.trees.TreeNode.$anonfun$transformDownWithPruning$1(TreeNode.scala:584)\n\tat org.apache.spark.sql.catalyst.trees.CurrentOrigin$.withOrigin(TreeNode.scala:176)\n\tat org.apache.spark.sql.catalyst.trees.TreeNode.transformDownWithPruning(TreeNode.scala:584)\n\tat org.apache.spark.sql.catalyst.plans.logical.LogicalPlan.org$apache$spark$sql$catalyst$plans$logical$AnalysisHelper$$super$transformDownWithPruning(LogicalPlan.scala:30)\n\tat org.apache.spark.sql.catalyst.plans.logical.AnalysisHelper.transformDownWithPruning(AnalysisHelper.scala:267)\n\tat org.apache.spark.sql.catalyst.plans.logical.AnalysisHelper.transformDownWithPruning$(AnalysisHelper.scala:263)\n\tat org.apache.spark.sql.catalyst.plans.logical.LogicalPlan.transformDownWithPruning(LogicalPlan.scala:30)\n\tat org.apache.spark.sql.catalyst.plans.logical.LogicalPlan.transformDownWithPruning(LogicalPlan.scala:30)\n\tat org.apache.spark.sql.catalyst.trees.TreeNode.transformDown(TreeNode.scala:560)\n\tat org.apache.spark.sql.execution.QueryExecution.eagerlyExecuteCommands(QueryExecution.scala:94)\n\tat org.apache.spark.sql.execution.QueryExecution.commandExecuted$lzycompute(QueryExecution.scala:81)\n\tat org.apache.spark.sql.execution.QueryExecution.commandExecuted(QueryExecution.scala:79)\n\tat org.apache.spark.sql.execution.QueryExecution.assertCommandExecuted(QueryExecution.scala:116)\n\tat org.apache.spark.sql.DataFrameWriter.runCommand(DataFrameWriter.scala:860)\n\tat org.apache.spark.sql.DataFrameWriter.saveToV1Source(DataFrameWriter.scala:390)\n\tat org.apache.spark.sql.DataFrameWriter.saveInternal(DataFrameWriter.scala:363)\n\tat org.apache.spark.sql.DataFrameWriter.save(DataFrameWriter.scala:247)\n\tat org.apache.spark.sql.DataFrameWriter.jdbc(DataFrameWriter.scala:757)\n\tat java.base/jdk.internal.reflect.NativeMethodAccessorImpl.invoke0(Native Method)\n\tat java.base/jdk.internal.reflect.NativeMethodAccessorImpl.invoke(NativeMethodAccessorImpl.java:62)\n\tat java.base/jdk.internal.reflect.DelegatingMethodAccessorImpl.invoke(DelegatingMethodAccessorImpl.java:43)\n\tat java.base/java.lang.reflect.Method.invoke(Method.java:566)\n\tat py4j.reflection.MethodInvoker.invoke(MethodInvoker.java:244)\n\tat py4j.reflection.ReflectionEngine.invoke(ReflectionEngine.java:357)\n\tat py4j.Gateway.invoke(Gateway.java:282)\n\tat py4j.commands.AbstractCommand.invokeMethod(AbstractCommand.java:132)\n\tat py4j.commands.CallCommand.execute(CallCommand.java:79)\n\tat py4j.ClientServerConnection.waitForCommands(ClientServerConnection.java:182)\n\tat py4j.ClientServerConnection.run(ClientServerConnection.java:106)\n\tat java.base/java.lang.Thread.run(Thread.java:829)\n"
     ]
    }
   ],
   "source": [
    "#Create sql table from dataframe\n",
    "df.createOrReplaceTempView(\"df\")\n",
    "\n",
    "#Save the dataframe in a postgresql database\n",
    "df.write.jdbc(url=\"jdbc:postgresql://localhost:5432/etl\", table=\"etl\", mode=\"overwrite\", properties={\"user\": \"postgres\", \"password\": \"Legolas00\"})\n"
   ]
  },
  {
   "cell_type": "code",
   "execution_count": 25,
   "id": "ba89b29b",
   "metadata": {},
   "outputs": [
    {
     "name": "stdout",
     "output_type": "stream",
     "text": [
      "+------+-----------+-------------------+-------------------+--------+--------------------+-------------+------+------------+---------+----------+--------+----+--------------------------+--------------------------+-----------------+-------------------------+-----------------------------------------------+---------------------------------+------------------------------------------------+--------------------------------------------------+-------------------------------------------------+--------------+-----------+-------------+\n",
      "|Delito|  SubDelito|              Fecha|               Hora| Victima|          SubVictima|         Edad|Genero|Nacionalidad|Provincia|    Canton|Distrito|_c12|Población de 15 años y más|Tasa neta de participación|Tasa de ocupación|Tasa de desempleo abierto|Porcentaje de población económicamente inactiva|Relación de dependencia económica|Porcentaje de población ocupada  Sector Primario|Porcentaje de población ocupada  Sector Secundario|Porcentaje de población ocupada  Sector Terciario|ProvinciaUnida|CantonUnido|DistritoUnido|\n",
      "+------+-----------+-------------------+-------------------+--------+--------------------+-------------+------+------------+---------+----------+--------+----+--------------------------+--------------------------+-----------------+-------------------------+-----------------------------------------------+---------------------------------+------------------------------------------------+--------------------------------------------------+-------------------------------------------------+--------------+-----------+-------------+\n",
      "|ASALTO|ARMA BLANCA|2021-06-03 00:00:00|00:00:00 - 02:59:59|VEHICULO|SERVICIO PUBLICO/...|Mayor de edad|HOMBRE|  COSTA RICA| san jose|alajuelita|    null|null|                 1 087 315|                        56|             54,1|                      3,5|                                             44|                              1,3|                                            null|                                              null|                                             null|      san jose|       null|         null|\n",
      "|ASALTO|ARMA BLANCA|2021-06-03 00:00:00|00:00:00 - 02:59:59|VEHICULO|SERVICIO PUBLICO/...|Mayor de edad|HOMBRE|  COSTA RICA| san jose|alajuelita|    null|null|                   225 856|                      56,7|             54,5|                      3,9|                                           43,3|                              1,2|                                            null|                                              null|                                             null|      san jose|       null|         null|\n",
      "|ASALTO|ARMA BLANCA|2021-06-03 00:00:00|00:00:00 - 02:59:59|VEHICULO|SERVICIO PUBLICO/...|Mayor de edad|HOMBRE|  COSTA RICA| san jose|alajuelita|    null|null|                    32 052|                      56,7|             54,7|                      3,5|                                           43,3|                              1,3|                                            14,9|                                              21,7|                                             63,5|      san jose|       null|         null|\n",
      "|ASALTO|ARMA BLANCA|2021-06-03 00:00:00|00:00:00 - 02:59:59|VEHICULO|SERVICIO PUBLICO/...|Mayor de edad|HOMBRE|  COSTA RICA| san jose|alajuelita|    null|null|                     6 064|                      53,7|             52,5|                      2,3|                                           46,3|                              1,5|                                             8,1|                                              26,7|                                             65,2|      san jose|       null|         null|\n",
      "|ASALTO|ARMA BLANCA|2021-06-03 00:00:00|00:00:00 - 02:59:59|VEHICULO|SERVICIO PUBLICO/...|Mayor de edad|HOMBRE|  COSTA RICA| san jose|alajuelita|    null|null|                     1 499|                      50,6|             49,4|                      2,2|                                           49,4|                              1,6|                                            21,2|                                              21,3|                                             57,4|      san jose|       null|         null|\n",
      "+------+-----------+-------------------+-------------------+--------+--------------------+-------------+------+------------+---------+----------+--------+----+--------------------------+--------------------------+-----------------+-------------------------+-----------------------------------------------+---------------------------------+------------------------------------------------+--------------------------------------------------+-------------------------------------------------+--------------+-----------+-------------+\n",
      "only showing top 5 rows\n",
      "\n"
     ]
    }
   ],
   "source": [
    "#Save the dataframe in csv file\n",
    "df.write.csv(path=\"output.csv\", sep=\",\", header=True,quote='\"',mode=\"overwrite\")\n",
    "df.show(5)\n"
   ]
  }
 ],
 "metadata": {
  "kernelspec": {
   "display_name": "Python 3.8.10 64-bit",
   "language": "python",
   "name": "python3"
  },
  "language_info": {
   "codemirror_mode": {
    "name": "ipython",
    "version": 3
   },
   "file_extension": ".py",
   "mimetype": "text/x-python",
   "name": "python",
   "nbconvert_exporter": "python",
   "pygments_lexer": "ipython3",
   "version": "3.8.10"
  },
  "vscode": {
   "interpreter": {
    "hash": "916dbcbb3f70747c44a77c7bcd40155683ae19c65e1c03b4aa3499c5328201f1"
   }
  }
 },
 "nbformat": 4,
 "nbformat_minor": 5
}
