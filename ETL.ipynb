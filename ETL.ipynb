{
 "cells": [
  {
   "cell_type": "code",
   "execution_count": 100,
   "id": "51d3e8f5",
   "metadata": {},
   "outputs": [],
   "source": [
    "from pyspark.sql import SparkSession\n",
    "from pyspark.sql.functions import ltrim,rtrim,trim,col\n",
    "from pyspark.sql.functions import *\n",
    "spark = SparkSession.builder.appName(\"MyFirstCSV\").getOrCreate()\n"
   ]
  },
  {
   "cell_type": "code",
   "execution_count": 101,
   "id": "f5739b97",
   "metadata": {},
   "outputs": [],
   "source": [
    "oij_df = spark.read.csv( path=\"OIJ.csv\", sep=\",\", header=True,quote='\"',inferSchema=True,)\n",
    "inec_df = spark.read.csv( path=\"INEC.csv\", sep=\";\", header=True,quote='\"',inferSchema=True,)"
   ]
  },
  {
   "cell_type": "code",
   "execution_count": null,
   "id": "29dfe503",
   "metadata": {},
   "outputs": [],
   "source": [
    "def remove_spaces(df):\n",
    "    for col in df.columns:\n",
    "        if  col == 'Provincia' or col == 'Canton' or col == 'Distrito' or col == 'Provincia, cantón y distrito':\n",
    "            df = df.withColumn(col, trim(col))\n",
    "    return df\n",
    "\n",
    "\n",
    "def to_lower_case(df):\n",
    "    for col in df.columns:\n",
    "        if  col == 'Provincia' or col == 'Canton' or col == 'Distrito' or col == 'Provincia, cantón y distrito':\n",
    "            df = df.withColumn(col, lower(col))\n",
    "    return df\n",
    "\n",
    "\n",
    "oij_df = remove_spaces(oij_df)\n",
    "inec_df = remove_spaces(inec_df)\n",
    "\n",
    "oij_df = to_lower_case(oij_df)\n",
    "inec_df = to_lower_case(inec_df)\n",
    "\n",
    "oij_df.show(5)\n",
    "inec_df.show(5)"
   ]
  },
  {
   "cell_type": "code",
   "execution_count": 103,
   "id": "bbdf9bf1",
   "metadata": {},
   "outputs": [
    {
     "ename": "AnalysisException",
     "evalue": "Cannot resolve column name \"Provincia\" among (Provincia, cantón y distrito, Población de 15 años y más, Tasa neta de participación, Tasa de ocupación, Tasa de desempleo abierto, Porcentaje de población económicamente inactiva, Relación de dependencia económica, Porcentaje de población ocupada  Sector Primario, Porcentaje de población ocupada  Sector Secundario, Porcentaje de población ocupada  Sector Terciario)",
     "output_type": "error",
     "traceback": [
      "\u001b[0;31m---------------------------------------------------------------------------\u001b[0m",
      "\u001b[0;31mAnalysisException\u001b[0m                         Traceback (most recent call last)",
      "Cell \u001b[0;32mIn [103], line 8\u001b[0m\n\u001b[1;32m      5\u001b[0m             non_matches\u001b[39m.\u001b[39mappend(df1\u001b[39m.\u001b[39mjoin(df2, df1[col] \u001b[39m!=\u001b[39m df2[col], \u001b[39m'\u001b[39m\u001b[39mleftanti\u001b[39m\u001b[39m'\u001b[39m)\u001b[39m.\u001b[39mselect(col)\u001b[39m.\u001b[39mdistinct()\u001b[39m.\u001b[39mcollect())\n\u001b[1;32m      6\u001b[0m     \u001b[39mreturn\u001b[39;00m non_matches\n\u001b[0;32m----> 8\u001b[0m non_matches_oij \u001b[39m=\u001b[39m find_non_matches(oij_df,inec_df)\n\u001b[1;32m     10\u001b[0m \u001b[39mfor\u001b[39;00m i \u001b[39min\u001b[39;00m non_matches_oij:\n\u001b[1;32m     11\u001b[0m     \u001b[39mprint\u001b[39m(i)\n",
      "Cell \u001b[0;32mIn [103], line 5\u001b[0m, in \u001b[0;36mfind_non_matches\u001b[0;34m(df1, df2)\u001b[0m\n\u001b[1;32m      3\u001b[0m \u001b[39mfor\u001b[39;00m col \u001b[39min\u001b[39;00m df1\u001b[39m.\u001b[39mcolumns:\n\u001b[1;32m      4\u001b[0m     \u001b[39mif\u001b[39;00m  col \u001b[39m==\u001b[39m \u001b[39m'\u001b[39m\u001b[39mProvincia\u001b[39m\u001b[39m'\u001b[39m \u001b[39mor\u001b[39;00m col \u001b[39m==\u001b[39m \u001b[39m'\u001b[39m\u001b[39mCanton\u001b[39m\u001b[39m'\u001b[39m \u001b[39mor\u001b[39;00m col \u001b[39m==\u001b[39m \u001b[39m'\u001b[39m\u001b[39mDistrito\u001b[39m\u001b[39m'\u001b[39m \u001b[39mor\u001b[39;00m col \u001b[39m==\u001b[39m \u001b[39m'\u001b[39m\u001b[39mProvincia, cantón y distrito\u001b[39m\u001b[39m'\u001b[39m:\n\u001b[0;32m----> 5\u001b[0m         non_matches\u001b[39m.\u001b[39mappend(df1\u001b[39m.\u001b[39mjoin(df2, df1[col] \u001b[39m!=\u001b[39m df2[col], \u001b[39m'\u001b[39m\u001b[39mleftanti\u001b[39m\u001b[39m'\u001b[39m)\u001b[39m.\u001b[39mselect(col)\u001b[39m.\u001b[39mdistinct()\u001b[39m.\u001b[39mcollect())\n\u001b[1;32m      6\u001b[0m \u001b[39mreturn\u001b[39;00m non_matches\n",
      "File \u001b[0;32m~/.local/lib/python3.8/site-packages/pyspark/sql/dataframe.py:1965\u001b[0m, in \u001b[0;36mDataFrame.__getitem__\u001b[0;34m(self, item)\u001b[0m\n\u001b[1;32m   1949\u001b[0m \u001b[39m\"\"\"Returns the column as a :class:`Column`.\u001b[39m\n\u001b[1;32m   1950\u001b[0m \n\u001b[1;32m   1951\u001b[0m \u001b[39m.. versionadded:: 1.3.0\u001b[39m\n\u001b[0;32m   (...)\u001b[0m\n\u001b[1;32m   1962\u001b[0m \u001b[39m[Row(age=5, name='Bob')]\u001b[39m\n\u001b[1;32m   1963\u001b[0m \u001b[39m\"\"\"\u001b[39m\n\u001b[1;32m   1964\u001b[0m \u001b[39mif\u001b[39;00m \u001b[39misinstance\u001b[39m(item, \u001b[39mstr\u001b[39m):\n\u001b[0;32m-> 1965\u001b[0m     jc \u001b[39m=\u001b[39m \u001b[39mself\u001b[39;49m\u001b[39m.\u001b[39;49m_jdf\u001b[39m.\u001b[39;49mapply(item)\n\u001b[1;32m   1966\u001b[0m     \u001b[39mreturn\u001b[39;00m Column(jc)\n\u001b[1;32m   1967\u001b[0m \u001b[39melif\u001b[39;00m \u001b[39misinstance\u001b[39m(item, Column):\n",
      "File \u001b[0;32m~/.local/lib/python3.8/site-packages/py4j/java_gateway.py:1321\u001b[0m, in \u001b[0;36mJavaMember.__call__\u001b[0;34m(self, *args)\u001b[0m\n\u001b[1;32m   1315\u001b[0m command \u001b[39m=\u001b[39m proto\u001b[39m.\u001b[39mCALL_COMMAND_NAME \u001b[39m+\u001b[39m\\\n\u001b[1;32m   1316\u001b[0m     \u001b[39mself\u001b[39m\u001b[39m.\u001b[39mcommand_header \u001b[39m+\u001b[39m\\\n\u001b[1;32m   1317\u001b[0m     args_command \u001b[39m+\u001b[39m\\\n\u001b[1;32m   1318\u001b[0m     proto\u001b[39m.\u001b[39mEND_COMMAND_PART\n\u001b[1;32m   1320\u001b[0m answer \u001b[39m=\u001b[39m \u001b[39mself\u001b[39m\u001b[39m.\u001b[39mgateway_client\u001b[39m.\u001b[39msend_command(command)\n\u001b[0;32m-> 1321\u001b[0m return_value \u001b[39m=\u001b[39m get_return_value(\n\u001b[1;32m   1322\u001b[0m     answer, \u001b[39mself\u001b[39;49m\u001b[39m.\u001b[39;49mgateway_client, \u001b[39mself\u001b[39;49m\u001b[39m.\u001b[39;49mtarget_id, \u001b[39mself\u001b[39;49m\u001b[39m.\u001b[39;49mname)\n\u001b[1;32m   1324\u001b[0m \u001b[39mfor\u001b[39;00m temp_arg \u001b[39min\u001b[39;00m temp_args:\n\u001b[1;32m   1325\u001b[0m     temp_arg\u001b[39m.\u001b[39m_detach()\n",
      "File \u001b[0;32m~/.local/lib/python3.8/site-packages/pyspark/sql/utils.py:196\u001b[0m, in \u001b[0;36mcapture_sql_exception.<locals>.deco\u001b[0;34m(*a, **kw)\u001b[0m\n\u001b[1;32m    192\u001b[0m converted \u001b[39m=\u001b[39m convert_exception(e\u001b[39m.\u001b[39mjava_exception)\n\u001b[1;32m    193\u001b[0m \u001b[39mif\u001b[39;00m \u001b[39mnot\u001b[39;00m \u001b[39misinstance\u001b[39m(converted, UnknownException):\n\u001b[1;32m    194\u001b[0m     \u001b[39m# Hide where the exception came from that shows a non-Pythonic\u001b[39m\n\u001b[1;32m    195\u001b[0m     \u001b[39m# JVM exception message.\u001b[39m\n\u001b[0;32m--> 196\u001b[0m     \u001b[39mraise\u001b[39;00m converted \u001b[39mfrom\u001b[39;00m \u001b[39mNone\u001b[39;00m\n\u001b[1;32m    197\u001b[0m \u001b[39melse\u001b[39;00m:\n\u001b[1;32m    198\u001b[0m     \u001b[39mraise\u001b[39;00m\n",
      "\u001b[0;31mAnalysisException\u001b[0m: Cannot resolve column name \"Provincia\" among (Provincia, cantón y distrito, Población de 15 años y más, Tasa neta de participación, Tasa de ocupación, Tasa de desempleo abierto, Porcentaje de población económicamente inactiva, Relación de dependencia económica, Porcentaje de población ocupada  Sector Primario, Porcentaje de población ocupada  Sector Secundario, Porcentaje de población ocupada  Sector Terciario)"
     ]
    }
   ],
   "source": [
    "def find_non_matches(df1,df2):\n",
    "    non_matches = []\n",
    "    for col in df1.columns:\n",
    "        if  col == 'Provincia' or col == 'Canton' or col == 'Distrito' or col == 'Provincia, cantón y distrito':\n",
    "            non_matches.append(df1.join(df2, df1[col] != df2[col], 'leftanti').select(col).distinct().collect())\n",
    "    return non_matches\n",
    "\n",
    "non_matches_oij = find_non_matches(oij_df,inec_df)\n",
    "\n",
    "for i in non_matches_oij:\n",
    "    print(i)"
   ]
  },
  {
   "cell_type": "code",
   "execution_count": null,
   "id": "3046964e",
   "metadata": {},
   "outputs": [],
   "source": [
    "\n",
    "\n"
   ]
  }
 ],
 "metadata": {
  "kernelspec": {
   "display_name": "Python 3.8.10 64-bit",
   "language": "python",
   "name": "python3"
  },
  "language_info": {
   "codemirror_mode": {
    "name": "ipython",
    "version": 3
   },
   "file_extension": ".py",
   "mimetype": "text/x-python",
   "name": "python",
   "nbconvert_exporter": "python",
   "pygments_lexer": "ipython3",
   "version": "3.8.10"
  },
  "vscode": {
   "interpreter": {
    "hash": "916dbcbb3f70747c44a77c7bcd40155683ae19c65e1c03b4aa3499c5328201f1"
   }
  }
 },
 "nbformat": 4,
 "nbformat_minor": 5
}
